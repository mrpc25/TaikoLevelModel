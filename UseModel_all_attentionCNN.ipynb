{
  "cells": [
    {
      "cell_type": "markdown",
      "metadata": {
        "id": "view-in-github",
        "colab_type": "text"
      },
      "source": [
        "<a href=\"https://colab.research.google.com/github/mrpc25/TaikoLevelModel/blob/main/UseModel_all_attentionCNN.ipynb\" target=\"_parent\"><img src=\"https://colab.research.google.com/assets/colab-badge.svg\" alt=\"Open In Colab\"/></a>"
      ]
    },
    {
      "cell_type": "code",
      "execution_count": 1,
      "metadata": {
        "colab": {
          "base_uri": "https://localhost:8080/"
        },
        "cellView": "form",
        "id": "XVlXLv8yjNfn",
        "outputId": "e3b957fd-5993-4f99-9d2e-c58840a7bfa7"
      },
      "outputs": [
        {
          "output_type": "stream",
          "name": "stdout",
          "text": [
            "Mounted at /content/drive\n"
          ]
        }
      ],
      "source": [
        "# @title Packages\n",
        "from google.colab import drive\n",
        "drive.mount('/content/drive')\n",
        "\n",
        "import shutil\n",
        "shutil.copyfile('drive/MyDrive/taiko.py', 'taiko.py')\n",
        "\n",
        "from taiko import TaikoFumen\n",
        "from taiko import TaikoFumenInner\n",
        "from taiko import TaikoFumenBranched\n",
        "\n",
        "import numpy as np\n",
        "import torch\n",
        "import torchaudio\n",
        "from torch import nn\n",
        "\n",
        "import gc\n",
        "import math\n",
        "\n",
        "from tqdm.auto import tqdm\n",
        "device = \"cuda\" if torch.cuda.is_available() else \"cpu\"\n",
        "\n",
        "def TimeDisplay(seconds):\n",
        "    D_str = \"\"\n",
        "    H_str = \"\"\n",
        "    M_str = \"\"\n",
        "    MS_str = \"\"\n",
        "    D = int(seconds // 86400)\n",
        "    seconds = seconds - D*86400\n",
        "    H = int(seconds // 3600)\n",
        "    seconds = seconds - H*3600\n",
        "    M = int(seconds // 60)\n",
        "    seconds = seconds - M*60\n",
        "    S = int(seconds // 1)\n",
        "    sconds = seconds - S\n",
        "    MS = round((seconds%1)*1000)\n",
        "    if D!=0: D_str = f\"{D}d \"\n",
        "    if D!=0 or H!=0: H_str = f\"{H}h \"\n",
        "    if D!=0 or H!=0 or M!=0: M_str = f\"{M}m \"\n",
        "    if D!=0 or H!=0 or M!=0 or S!=0: MS_str = f\"{S}s \"\n",
        "    return f\"{D_str}{H_str}{M_str}{MS_str}{MS}ms\""
      ]
    },
    {
      "cell_type": "code",
      "execution_count": 2,
      "metadata": {
        "cellView": "form",
        "id": "Xej5rkfKjNfp"
      },
      "outputs": [],
      "source": [
        "# @title Fumen / Audio Basic Setting\n",
        "\n",
        "PRECHOOSE_COURSE = 'Oni' # @param [\"Easy\", \"Normal\", \"Hard\", \"Oni\", \"Edit\"] {allow-input: false}\n",
        "PRECHOOSE_BRANCH = 2 # @param [\"0\", \"1\", \"2\"] {type:\"raw\"}\n",
        "\n",
        "match PRECHOOSE_BRANCH:\n",
        "    case 0: PRE_BRANCH_STR = \"普通譜面\"\n",
        "    case 1: PRE_BRANCH_STR = \"玄人譜面\"\n",
        "    case 2: PRE_BRANCH_STR = \"達人譜面\"\n",
        "    case _: raise Exception(\"Please Enter A Integer In One Of Them: [0, 1, 2]\")\n"
      ]
    },
    {
      "cell_type": "code",
      "execution_count": 39,
      "metadata": {
        "colab": {
          "base_uri": "https://localhost:8080/"
        },
        "cellView": "form",
        "id": "aGpnxIyIjNfp",
        "outputId": "b70d5fae-9405-4cd1-c884-2fb26871c9b2"
      },
      "outputs": [
        {
          "output_type": "stream",
          "name": "stdout",
          "text": [
            "PreChoose State\t:Oni/達人譜面\n",
            "Audio Path \t:/content/drive/MyDrive/FumenToPredict/Touhou_Suite.ogg\n",
            "Offset Value\t:2.226088s\n"
          ]
        }
      ],
      "source": [
        "# @title Fumen Info Loading\n",
        "Codec = \"big5\" # @param [\"utf_8\", \"ascii\", \"shift_jis\", \"big5\", \"hz\", \"unicode_escape\", \"raw_unicode_escape\"] {allow-input: true}\n",
        "fumen_path = \"/content/drive/MyDrive/FumenToPredict/touhou.tja\" # @param {type:\"string\"}\n",
        "offset_shift = 0 # @param {type:\"number\"}\n",
        "\n",
        "def ReadingFile(used_codec):\n",
        "    #第一階段分析譜面 -> 分析所有有出現的譜面版本 (難度分類/是否雙人，但不分次郎定義的表裏譜面)\n",
        "    song_basic = TaikoFumen(fumen_path, used_codec)\n",
        "    #依照檔案當中所有出現的譜面版本做選擇\n",
        "    for state in song_basic.FumanClassfication:\n",
        "        if(state[1]==PRECHOOSE_COURSE):\n",
        "            diff_sign = state[0]\n",
        "            break\n",
        "    #第二階段分析譜面 -> 分析第一階段所選譜面內容，並分析出三種可能分岐(或沒有)\n",
        "    song_selected = TaikoFumenInner(fumen_path, used_codec, diff_sign)\n",
        "    #依照上階段所選譜面的分岐條件做選擇，也可能沒有分歧\n",
        "    Branch_sign = PRECHOOSE_BRANCH if song_selected.IsBranchExist else None\n",
        "    #最後決定的譜面\n",
        "    return TaikoFumenBranched(fumen_path, used_codec, diff_sign, Branch_sign)\n",
        "\n",
        "Codec_To_Try = [Codec, \"utf_8\", \"big5\", \"shift_jis\", \"raw_unicode_escape\"]\n",
        "Reading_Success = False\n",
        "for Choesn_Codec in Codec_To_Try:\n",
        "    try:\n",
        "        song_branched = ReadingFile(Choesn_Codec)\n",
        "        Reading_Success = True\n",
        "        break\n",
        "    except:\n",
        "        pass\n",
        "\n",
        "if not Reading_Success:\n",
        "    raise Exception(\"Unable Reading File After Using All Codecs\\n\")\n",
        "\n",
        "audio_name = song_branched.OffsetThingsValue_PareIgnored(\"WAVE:\",[0, len(song_branched.EveryRow)])\n",
        "\n",
        "def FilePathOnlyDir(path):\n",
        "    if \"/\" not in path: return \"\"\n",
        "    while(path[-1]!=\"/\" and len(path)>0): path = path.rstrip(path[-1])\n",
        "    return path\n",
        "Audio_path = FilePathOnlyDir(fumen_path) + audio_name\n",
        "\n",
        "LocationToNotes = song_branched.FindEveryPassedNotesLocation()\n",
        "OFFSETString = song_branched.OffsetThingsValue(\"OFFSET:\", [0, song_branched.Song_Begin[0]])\n",
        "OFFSET = 0 if OFFSETString=='' else float(OFFSETString)\n",
        "AbsoluteTime = [-OFFSET + song_branched.Duration([0,0],location)[0] for location in LocationToNotes]\n",
        "MeasureConfiguration = song_branched.Find_BeatsToMeasure_Of_EachNotesInLoaction()\n",
        "BpmConfiguration = song_branched.Find_BPM_Of_EachNotesInLoaction()\n",
        "\n",
        "print(f\"PreChoose State\\t:{PRECHOOSE_COURSE}/{PRE_BRANCH_STR}\")\n",
        "print(f\"Audio Path \\t:{Audio_path}\")\n",
        "print(f\"Offset Value\\t:{-OFFSET}s\")\n",
        "\n",
        "if(offset_shift!=0):\n",
        "  print(f\"Offset Shift\\t:{-offset_shift}s\")\n",
        "  print(f\"Offset Final\\t:{-OFFSET-offset_shift}s\")\n",
        "  OFFSET = OFFSET - offset_shift\n"
      ]
    },
    {
      "cell_type": "markdown",
      "source": [
        "##Multiple To Multiple"
      ],
      "metadata": {
        "id": "UiXZRlvgq9m_"
      }
    },
    {
      "cell_type": "code",
      "execution_count": null,
      "metadata": {
        "id": "aH_CYkULZv1R",
        "cellView": "form",
        "colab": {
          "base_uri": "https://localhost:8080/",
          "height": 37
        },
        "outputId": "e07f4260-9928-41b2-86ae-49eae62b2de5"
      },
      "outputs": [
        {
          "output_type": "execute_result",
          "data": {
            "text/plain": [
              "'cpu'"
            ],
            "application/vnd.google.colaboratory.intrinsic+json": {
              "type": "string"
            }
          },
          "metadata": {},
          "execution_count": 7
        }
      ],
      "source": [
        "# @title Model/Parameter Defining { form-width: \"240px\" }\n",
        "import torch.nn.functional as F\n",
        "\n",
        "MODEL_PATH = \"/content/drive/MyDrive/20240721/seq_24_inarow/2_9364_6076.pth\" # @param [\"/content/drive/MyDrive/20240721/seq_32_inarow_37_63/1_10973_5335.pth\", \"/content/drive/MyDrive/20240721/embed_size_24_rollu_op_drop_ignored0.3/17_9051_6140.pth\", \"/content/drive/MyDrive/20240721/embed_size_24_rollu_op/1_9244_6171.pth\", \"/content/drive/MyDrive/20240721/embed_size_24_rollu_op_drop/1_9064_6186.pth\", \"/content/drive/MyDrive/20240721/seq_24_inarow/2_9364_6076.pth\", \"/content/drive/MyDrive/20240721/seq_24_inarow_all/6_8863_6359.pth\", \"/content/drive/MyDrive/20240721/seq_24_inarow_all_tl/43_8813_6316.pth\"] {allow-input: true}\n",
        "\n",
        "SEQ = 24 # @param {type:\"integer\"}\n",
        "DUAL_CHANNEL = False # @param {type:\"boolean\"}\n",
        "BATCH_FIRST = False # @param {type:\"boolean\"}\n",
        "EXTRA_NOTEPAIR = 1\n",
        "CHANNRL = 2 if DUAL_CHANNEL else 1\n",
        "C = (0*2 + 1) * CHANNRL\n",
        "\n",
        "C = CHANNRL\n",
        "\n",
        "\n",
        "softmax = nn.Softmax(dim=1)\n",
        "\n",
        "class Attention(nn.Module):\n",
        "    def __init__(self, dim, n_heads, dropout):\n",
        "        super().__init__()\n",
        "        self.n_heads = n_heads\n",
        "        self.att = torch.nn.MultiheadAttention(embed_dim=dim,\n",
        "                                               num_heads=n_heads,\n",
        "                                               dropout=dropout)\n",
        "        self.q = torch.nn.Linear(dim, dim)\n",
        "        self.k = torch.nn.Linear(dim, dim)\n",
        "        self.v = torch.nn.Linear(dim, dim)\n",
        "\n",
        "    def forward(self, x):\n",
        "        q = self.q(x)\n",
        "        k = self.k(x)\n",
        "        v = self.v(x)\n",
        "        attn_output, attn_output_weights = self.att(q, k, v)\n",
        "        return attn_output\n",
        "\n",
        "class PreNorm(nn.Module):\n",
        "    def __init__(self, dim, fn):\n",
        "        super().__init__()\n",
        "        self.norm = nn.LayerNorm(dim)\n",
        "        self.fn = fn\n",
        "    def forward(self, x, **kwargs):\n",
        "        return self.fn(self.norm(x), **kwargs)\n",
        "\n",
        "class FeedForward(nn.Sequential):\n",
        "    def __init__(self, dim, hidden_dim, dropout = 0.):\n",
        "        super().__init__(\n",
        "            nn.Linear(dim, hidden_dim),\n",
        "            nn.GELU(),\n",
        "            nn.Dropout(dropout),\n",
        "            nn.Linear(hidden_dim, dim),\n",
        "            nn.Dropout(dropout)\n",
        "        )\n",
        "\n",
        "class ResidualAdd(nn.Module):\n",
        "    def __init__(self, fn):\n",
        "        super().__init__()\n",
        "        self.fn = fn\n",
        "\n",
        "    def forward(self, x, **kwargs):\n",
        "        res = x\n",
        "        x = self.fn(x, **kwargs)\n",
        "        x += res\n",
        "        return x\n",
        "\n",
        "class TaikoNoteClassfication(nn.Module):\n",
        "    def __init__(self, out_dim, C=C, num_patches=SEQ, emb_dim=128, n_layers=6, dropout=0.1, heads=4):\n",
        "        super(TaikoNoteClassfication, self).__init__()\n",
        "        self.conv1 = nn.Conv2d(in_channels=C, out_channels=32, kernel_size=(3, 3), stride=(1, 1), padding=(1, 1))\n",
        "        self.conv2 = nn.Conv2d(in_channels=32, out_channels=64, kernel_size=(3, 3), stride=(1, 1), padding=(1, 1))\n",
        "        self.conv3 = nn.Conv2d(in_channels=64, out_channels=128, kernel_size=(3, 3), stride=(1, 1), padding=(1, 1))\n",
        "\n",
        "        self.pool = nn.MaxPool2d(kernel_size=(2, 2), stride=(2, 2), padding=(0, 0))\n",
        "        self.fc = nn.Linear(12288, emb_dim)\n",
        "\n",
        "        self.channels = C\n",
        "        self.n_layers = n_layers\n",
        "\n",
        "        num_patches = num_patches\n",
        "        self.cls_token = nn.Parameter(torch.rand(1, 1, emb_dim))\n",
        "\n",
        "        self.layers = nn.ModuleList([])\n",
        "        for _ in range(n_layers):\n",
        "            transformer_block = nn.Sequential\\\n",
        "            (\n",
        "                ResidualAdd(PreNorm(emb_dim, Attention(emb_dim, n_heads = heads, dropout = dropout))),\n",
        "                ResidualAdd(PreNorm(emb_dim, FeedForward(emb_dim, emb_dim, dropout = dropout)))\n",
        "            )\n",
        "            self.layers.append(transformer_block)\n",
        "\n",
        "        self.head = nn.Sequential(nn.LayerNorm(emb_dim), nn.Linear(emb_dim, out_dim))\n",
        "\n",
        "        A = torch.ones(num_patches, emb_dim)\n",
        "        for pos in range(num_patches):\n",
        "          for i in range(emb_dim):\n",
        "            x = i//2\n",
        "            A[pos][i] = torch.sin(torch.tensor(pos/1000**(x/emb_dim))) if (i % 2 == 0) else torch.cos(torch.tensor(pos/1000**(x/emb_dim)))\n",
        "        self.basic_pos_emb_unit = A.to(device)\n",
        "\n",
        "    def forward(self, x):\n",
        "\n",
        "        batch_size, sequence_length, channels, height, width = x.size()\n",
        "        x = x.view(batch_size * sequence_length, channels, height, width)\n",
        "\n",
        "        x = self.pool(F.relu(self.conv1(x)))\n",
        "        x = self.pool(F.relu(self.conv2(x)))\n",
        "        x = self.pool(F.relu(self.conv3(x)))\n",
        "\n",
        "        x = x.view(batch_size, sequence_length, -1)\n",
        "        x = self.fc(x)\n",
        "        b, n, _ = x.shape\n",
        "\n",
        "        position_encoding = self.basic_pos_emb_unit.repeat(b, 1, 1)\n",
        "        x = x + position_encoding\n",
        "\n",
        "        cls_tokens = self.cls_token.repeat(b, 1, 1)\n",
        "        x = torch.cat([cls_tokens, x], dim=1)\n",
        "\n",
        "        for i in range(self.n_layers): x = self.layers[i](x)\n",
        "        return self.head(x[:, 1:, :])\n",
        "\n",
        "device = \"cuda\" if torch.cuda.is_available() else \"cpu\"\n",
        "\n",
        "model = TaikoNoteClassfication(5).to(device)\n",
        "\n",
        "MAGNIFY = 1\n",
        "# PERIOD = 1\n",
        "FREQ_BINS = 64\n",
        "SEGMENT = 100\n",
        "# SR = 44100\n",
        "# SHAPE = int(PERIOD*SEGMENT+1)\n",
        "\n",
        "#載入儲存好的模型\n",
        "TaikoModel = TaikoNoteClassfication(5).to(device)\n",
        "TaikoModel.load_state_dict(torch.load(MODEL_PATH, map_location=torch.device(device)))\n",
        "TaikoModel.state_dict()\n",
        "TaikoModel.eval()\n",
        "\n",
        "device\n"
      ]
    },
    {
      "cell_type": "code",
      "execution_count": null,
      "metadata": {
        "colab": {
          "base_uri": "https://localhost:8080/",
          "height": 198,
          "referenced_widgets": [
            "fd207e32925c4ad8b339d4fe330ced86",
            "b75621b2f69545088cd7afac647620a7",
            "7b1ae051eb284932a510d469bf02c45a",
            "61d394b25ea045bb874651be43e8d921",
            "835f158740cf4f2dae71a1623019d919",
            "41c60a9f86924b5fb83acd9de872138b",
            "a3d2d750886b48358a2ac182977a5c04",
            "88e102b4ea8d494cb22c09c065b2c278",
            "74348f0c4d8b414eabd7465beb78afd0",
            "f5b8f669fad2411a858e1fc9ed3ad3a2",
            "f56e6c6daad44b88b36963d4d2039dbb"
          ]
        },
        "cellView": "form",
        "id": "A3hMrAjbjNfr",
        "outputId": "f4699c38-a388-4c8f-de26-e8e95a4ba858"
      },
      "outputs": [
        {
          "output_type": "stream",
          "name": "stdout",
          "text": [
            "Model patch\t\t:/content/drive/MyDrive/20240721/seq_24_inarow/2_9364_6076.pth\n",
            "Audio Path\t\t:/content/drive/MyDrive/FumenToPredict/songforsmalllove.ogg\n",
            "Sequence length\t\t:24\n"
          ]
        },
        {
          "output_type": "display_data",
          "data": {
            "text/plain": [
              "  0%|          | 0/2847 [00:00<?, ?it/s]"
            ],
            "application/vnd.jupyter.widget-view+json": {
              "version_major": 2,
              "version_minor": 0,
              "model_id": "fd207e32925c4ad8b339d4fe330ced86"
            }
          },
          "metadata": {}
        },
        {
          "output_type": "stream",
          "name": "stderr",
          "text": [
            "/usr/local/lib/python3.10/dist-packages/torchaudio/functional/functional.py:584: UserWarning: At least one mel filterbank has all zero values. The value for `n_mels` (64) may be set too high. Or, the value for `n_freqs` (513) may be set too low.\n",
            "  warnings.warn(\n"
          ]
        },
        {
          "output_type": "stream",
          "name": "stdout",
          "text": [
            "Inference Time\t\t:7m 4s 84mss\n",
            "Inference Ratio\t\t:94.32%\n"
          ]
        }
      ],
      "source": [
        "# @title Fumen Predicting { form-width: \"450px\" }\n",
        "import time\n",
        "\n",
        "inference_time = 0\n",
        "\n",
        "print(f\"Model patch\\t\\t:{MODEL_PATH}\")\n",
        "print(f\"Audio Path\\t\\t:{Audio_path}\")\n",
        "print(f\"Sequence length\\t\\t:{SEQ}\")\n",
        "\n",
        "NeedNormalized = False # @param {type:\"boolean\"}\n",
        "Possibilty_Computation = 'Raw -> Sum/Avg -> Softmax' # @param [\"Raw -> Sum/Avg -> Softmax\", \"Raw -> Softmax -> Sum/Avg\", \"Raw -> Softmax -> Multiply -> RootBack\"] {allow-input: false}\n",
        "\n",
        "predictBar = torch.zeros(SEQ, CHANNRL, 64, 101).to(device)\n",
        "match Possibilty_Computation:\n",
        "  case \"Raw -> Sum/Avg -> Softmax\"|\"Raw -> Softmax -> Sum/Avg\":\n",
        "    predictResult = torch.zeros(len(LocationToNotes), 5).to(device)\n",
        "  case \"Raw -> Softmax -> Multiply -> RootBack\":\n",
        "    predictResult = torch.ones(len(LocationToNotes), 5).to(device)\n",
        "# predictResult = torch.zeros(len(LocationToNotes), 5).to(device)\n",
        "abs_pos = torch.tensor(range(1-SEQ, 1)).to(device)\n",
        "\n",
        "def AdjustPeriod(period):\n",
        "    while(period>=4): period = period/2\n",
        "    while(period<=1/4): period = period*2\n",
        "    return period\n",
        "\n",
        "SOUNDWAVE, SR = torchaudio.load(Audio_path)\n",
        "SOUNDWAVE = SOUNDWAVE * MAGNIFY\n",
        "SOUNDWAVE = SOUNDWAVE.to(device)\n",
        "FRAMES_LENGTH = len(SOUNDWAVE[0])\n",
        "\n",
        "channel_num = (SOUNDWAVE.shape)[0]\n",
        "assert channel_num==1 or channel_num==2, \"Number of channel is not valid, expect 1 or 2.\"\n",
        "if(channel_num==1 and DUAL_CHANNEL):      SOUNDWAVE = SOUNDWAVE.repeat(2, 1)                               #將單聲道轉為雙聲道\n",
        "if(channel_num==2 and not DUAL_CHANNEL):  SOUNDWAVE = torch.unsqueeze((SOUNDWAVE[0]+SOUNDWAVE[1])/2, 0)    #將雙聲道轉為單聲道\n",
        "\n",
        "BEFORE_overall = time.time()\n",
        "for NOTE_INDEX, location in enumerate(tqdm(LocationToNotes)):\n",
        "    [BAR, NOTE] = location\n",
        "    BPM = BpmConfiguration[BAR][NOTE]\n",
        "    PERIOD = AdjustPeriod(60 / BPM * 2)\n",
        "    SHAPE = int(PERIOD*SEGMENT+1)\n",
        "\n",
        "    EXACT_TIME = AbsoluteTime[NOTE_INDEX]-PERIOD/2\n",
        "    STARTING_FRAME = int(EXACT_TIME*SR)\n",
        "    DURATION_FRAME = int(PERIOD*SR)\n",
        "\n",
        "    ZERO_CHANNEL_TENSOR = torch.full((CHANNRL, 1), 0).to(device)\n",
        "\n",
        "    #起始點是否在音樂開始前 / 起始點是否在音樂開始後 / 終止點是否在音樂開始前 / 終止點是否在音樂結束後\n",
        "    IS_START_OUT_OF_MIN_INDEX = False if (STARTING_FRAME>=0) else True\n",
        "    IS_START_OUT_OF_MAX_INDEX = False if (STARTING_FRAME<FRAMES_LENGTH) else True\n",
        "    IS_FINAL_OUT_OF_NIN_INDEX = False if (STARTING_FRAME+DURATION_FRAME>=0) else True\n",
        "    IS_FINAL_OUT_OF_NAX_INDEX = False if (STARTING_FRAME+DURATION_FRAME<FRAMES_LENGTH) else True\n",
        "\n",
        "    assert not(IS_START_OUT_OF_MIN_INDEX and IS_START_OUT_OF_MAX_INDEX), f\"The Start Window being Out Of Start/End point At The Same Time Doesn't Make Sense.\"\n",
        "    assert not(IS_FINAL_OUT_OF_NIN_INDEX and IS_FINAL_OUT_OF_NAX_INDEX), f\"The Final Window being Out Of Start/End point At The Same Time Doesn't Make Sense.\"\n",
        "\n",
        "    match IS_START_OUT_OF_MIN_INDEX, IS_START_OUT_OF_MAX_INDEX, IS_FINAL_OUT_OF_NIN_INDEX, IS_FINAL_OUT_OF_NAX_INDEX:\n",
        "        case False  , False , _     , False : #正常情況\n",
        "            SLICE = SOUNDWAVE[:, STARTING_FRAME: STARTING_FRAME+DURATION_FRAME]\n",
        "        case True   , False , False , False : #開頭超出音樂開頭處，結尾則在音樂內\n",
        "            SLICE = SOUNDWAVE[:, 0: STARTING_FRAME+DURATION_FRAME]\n",
        "            while(len(SLICE[0])<DURATION_FRAME): SLICE = torch.cat((ZERO_CHANNEL_TENSOR, SLICE), dim=1)\n",
        "        case True   , False , True , False : #開頭和結尾都超出音樂開頭處\n",
        "            SLICE = torch.zeros(CHANNRL, DURATION_FRAME).to(device)\n",
        "        case False  , False , _    , True  : #結尾超出音樂結束處，開頭則在音樂內\n",
        "            SLICE = SOUNDWAVE[:, STARTING_FRAME: FRAMES_LENGTH]\n",
        "            while(len(SLICE[0])<DURATION_FRAME): SLICE = torch.cat((SLICE, ZERO_CHANNEL_TENSOR), dim=1)\n",
        "        case False  , True  , _    , True  : #開頭跟結尾都已經在整首音樂結束後了\n",
        "            SLICE = torch.zeros(CHANNRL, DURATION_FRAME).to(device)\n",
        "        case True   , _     , _    , True  : #不合理的情況，起始點在音樂開始前，終止點在音樂結束後\n",
        "            raise Exception(f\"Chosen Segment Is Less Then {PERIOD}s.\")\n",
        "\n",
        "    to_mel_spectrogram = torchaudio.transforms.MelSpectrogram(\n",
        "        sample_rate = DURATION_FRAME,  n_fft = 1024,       n_mels = FREQ_BINS,\n",
        "        hop_length = int( DURATION_FRAME / SEGMENT ),      f_min = 0,         f_max = int(SR/2),  normalized = True).to(device)\n",
        "\n",
        "    log_mel_spec = to_mel_spectrogram(SLICE)\n",
        "\n",
        "    for i in range(len(predictBar)-1):\n",
        "        predictBar[i] = predictBar[i+1]\n",
        "    predictBar[-1] = log_mel_spec\n",
        "\n",
        "    with torch.inference_mode():\n",
        "        #代進去時，要是batchxBEQx2x64x101\n",
        "        predictBar_normalized = torch.nn.functional.normalize(predictBar.reshape(-1), dim=0).reshape(predictBar.shape) if (NeedNormalized) else predictBar\n",
        "        BEFORE = time.time()\n",
        "        Result = TaikoModel(torch.unsqueeze(predictBar_normalized, 0).to(device))\n",
        "        inference_time += time.time() - BEFORE\n",
        "        Result = torch.squeeze(Result)\n",
        "\n",
        "    abs_pos = torch.tensor(range(NOTE_INDEX-SEQ+1, NOTE_INDEX+1))\n",
        "    match Possibilty_Computation:\n",
        "        case \"Raw -> Sum/Avg -> Softmax\":\n",
        "          for abs_index, value in zip(abs_pos, Result):\n",
        "              if(abs_index>=0): predictResult[abs_index] += value\n",
        "        case \"Raw -> Softmax -> Sum/Avg\":\n",
        "          Result = softmax(Result)\n",
        "          for abs_index, value in zip(abs_pos, Result):\n",
        "              if(abs_index>=0): predictResult[abs_index] += value\n",
        "        case \"Raw -> Softmax -> Multiply -> RootBack\":\n",
        "          Result = softmax(Result)\n",
        "          for abs_index, value in zip(abs_pos, Result):\n",
        "              if(abs_index>=0): predictResult[abs_index] *= value\n",
        "        case _:\n",
        "          raise Exception(\"Please Enter A String In One Of Them: [Raw -> Sum/Avg -> Softmax, Raw -> Softmax -> Sum/Avg, Raw -> Softmax -> Multiply -> RootBack]\")\n",
        "\n",
        "    # abs_pos = torch.tensor(range(NOTE_INDEX-SEQ+1, NOTE_INDEX+1))\n",
        "    # for abs_index, value in zip(abs_pos, Result):\n",
        "    #     if(abs_index>=0): predictResult[abs_index] += value\n",
        "overall = time.time() - BEFORE_overall\n",
        "\n",
        "#倒數SEQ-1個音符需要補0來計算剩餘次數\n",
        "for _ in range(SEQ-1):\n",
        "    for i in range(len(predictBar)-1):\n",
        "        predictBar[i] = predictBar[i+1]\n",
        "    predictBar[-1] = torch.zeros(CHANNRL, FREQ_BINS, SEGMENT+1)\n",
        "\n",
        "    with torch.inference_mode():\n",
        "        #代進去時，要是batchxSEQx2x64x101\n",
        "        predictBar_normalized = torch.nn.functional.normalize(predictBar.reshape(-1), dim=0).reshape(predictBar.shape) if (NeedNormalized) else predictBar\n",
        "        Result = TaikoModel(torch.unsqueeze(predictBar_normalized, 0).to(device))\n",
        "        Result = torch.squeeze(Result)\n",
        "\n",
        "    abs_pos = abs_pos + 1\n",
        "    match Possibilty_Computation:\n",
        "        case \"Raw -> Sum/Avg -> Softmax\":\n",
        "          for abs_index, value in zip(abs_pos, Result):\n",
        "              if(abs_index<len(LocationToNotes)): predictResult[abs_index] += value\n",
        "        case \"Raw -> Softmax -> Sum/Avg\":\n",
        "          Result = softmax(Result)\n",
        "          for abs_index, value in zip(abs_pos, Result):\n",
        "              if(abs_index<len(LocationToNotes)): predictResult[abs_index] += value\n",
        "        case \"Raw -> Softmax -> Multiply -> RootBack\":\n",
        "          Result = softmax(Result)\n",
        "          for abs_index, value in zip(abs_pos, Result):\n",
        "              if(abs_index<len(LocationToNotes)): predictResult[abs_index] *= value\n",
        "        case _:\n",
        "          raise Exception(\"Please Enter A String In One Of Them: [Raw -> Sum/Avg -> Softmax, Raw -> Softmax -> Sum/Avg, Raw -> Softmax -> Multiply -> RootBack]\")\n",
        "\n",
        "    # abs_pos = abs_pos + 1\n",
        "    # for abs_index, value in zip(abs_pos, Result):\n",
        "    #     if(abs_index<len(LocationToNotes)): predictResult[abs_index] += value\n",
        "\n",
        "match Possibilty_Computation:\n",
        "  case \"Raw -> Sum/Avg -> Softmax\"|\"Raw -> Softmax -> Sum/Avg\":\n",
        "    predictResult = predictResult / SEQ\n",
        "  case \"Raw -> Softmax -> Multiply -> RootBack\":\n",
        "    predictResult = predictResult ** (1/SEQ)\n",
        "preductNote = predictResult.argmax(dim=1).tolist()\n",
        "\n",
        "print(f\"Inference Time\\t\\t:{TimeDisplay(inference_time)}s\")\n",
        "print(f\"Inference Ratio\\t\\t:{round(inference_time/overall*10000)/100}%\")\n",
        "\n",
        "for x, y in zip(LocationToNotes, preductNote): song_branched.EveryBar[x[0]] = song_branched.EveryBar[x[0]][:x[1]] + str(y) + song_branched.EveryBar[x[0]][x[1]+1:]"
      ]
    },
    {
      "cell_type": "code",
      "execution_count": null,
      "metadata": {
        "colab": {
          "base_uri": "https://localhost:8080/"
        },
        "cellView": "form",
        "id": "QTUOZ9EXjNfs",
        "outputId": "b84d1c29-3852-49e4-8c6c-db881e91b042"
      },
      "outputs": [
        {
          "output_type": "stream",
          "name": "stdout",
          "text": [
            "Succesfully Ouput As A File Called \"小イス戀ソよギ_Oni.tja\"\n"
          ]
        }
      ],
      "source": [
        "# @title Result { form-width: \"240px\" }\n",
        "\n",
        "BarNumberDisplayed = True # @param {type:\"boolean\"}\n",
        "Result_Display = \"Save As File\" # @param [\"Print Out\", \"Save As File\"]\n",
        "\n",
        "#印出結果\n",
        "TempContent = song_branched.OffsetThingsValue(\"BPM:\",[song_branched.ChosenReady,song_branched.ChosenBegin]) #預設使用譜面開始前設定的BPM\n",
        "if(TempContent==\"\"): TempContent = song_branched.OffsetThingsValue(\"BPM:\",[0, song_branched.Song_Begin[0]]) #沒有該譜面自設定的BPM，則沿用譜面檔案一開始能找到的數值\n",
        "\n",
        "TITLE = song_branched.TITLE\n",
        "SUBTITLE = song_branched.OffsetThingsValue(\"SUBTITLE:\",[0,len(song_branched.EveryRow)])\n",
        "INIT_BPM = TempContent\n",
        "WAVE = song_branched.OffsetThingsValue(\"WAVE:\",[0,len(song_branched.EveryRow)])\n",
        "OFFSET = OFFSET\n",
        "LEVEL = 8 # @param {type:\"integer\"}\n",
        "COURSE = 3 # @param {type:\"integer\"}\n",
        "\n",
        "_bpm = float(TempContent)\n",
        "_scr = 1\n",
        "_measure = [4, 4]\n",
        "_barline = True\n",
        "_gogo = False\n",
        "_note = None\n",
        "\n",
        "set_bpm = song_branched.BPMValueSet\n",
        "set_scr = song_branched.ScrollSet\n",
        "set_measure = song_branched.BeatsToMeasureSet\n",
        "set_barline = song_branched.BarlineSet\n",
        "set_gogo = song_branched.GOGOSet\n",
        "set_delay = song_branched.DelaySet\n",
        "\n",
        "Remastered_fumen = \"\"\n",
        "\n",
        "#Basic Info\n",
        "Remastered_fumen += f\"TITLE:{TITLE}\\n\"\n",
        "Remastered_fumen += f\"SUBTITLE:{SUBTITLE}\\n\"\n",
        "Remastered_fumen += f\"BPM:{INIT_BPM}\\n\"\n",
        "Remastered_fumen += f\"WAVE:{WAVE}\\n\"\n",
        "Remastered_fumen += f\"OFFSET:{OFFSET}\\n\"\n",
        "Remastered_fumen += f\"LEVEL:{LEVEL}\\n\"\n",
        "Remastered_fumen += f\"COURSE:{COURSE}\\n\"\n",
        "\n",
        "Remastered_fumen += \"#START\\n\"\n",
        "\n",
        "#Actual Fumen Context\n",
        "for bar, bar_bpm, bar_scr, bar_measure, bar_barline, bar_gogo, bar_delay in zip(song_branched.EveryBar, set_bpm, set_scr, set_measure, set_barline, set_gogo, set_delay):\n",
        "    for note, bpm, scr, measure, barline, gogo, delay in zip(bar, bar_bpm, bar_scr, bar_measure, bar_barline, bar_gogo, bar_delay):\n",
        "        IsCommandChange = True if (_bpm, _scr, _measure, _barline, _gogo) != (bpm, scr, measure, barline, gogo) else False\n",
        "        #如果現在有指令的話，會在開頭自動加上一次換行。而如果上一個位置就是小節結束點(換行)，那就省掉上一次加的換行\n",
        "        if( IsCommandChange and ( _note == \",\" or _note is None ) ):  Remastered_fumen = Remastered_fumen[:-1]\n",
        "        if(_bpm!=bpm):\n",
        "            _bpm = bpm\n",
        "            Remastered_fumen = Remastered_fumen + f\"\\n#BPMCHANGE {bpm}\"\n",
        "        if(_scr!=scr):\n",
        "            _scr = scr\n",
        "            Scroll_text = str(scr.real) if (scr.imag==0) else f\"{scr.real}+{scr.imag}i\"\n",
        "            Remastered_fumen = Remastered_fumen + f\"\\n#SCROLL {Scroll_text}\"\n",
        "        if(_measure!=measure):\n",
        "            _measure = measure\n",
        "            Remastered_fumen = Remastered_fumen + f\"\\n#MEASURE {measure[0]}/{measure[1]}\"\n",
        "        if(_barline!=barline):\n",
        "            _barline = barline\n",
        "            Barline_text = \"#BARLINEON\" if barline else \"#BARLINEOFF\"\n",
        "            Remastered_fumen = Remastered_fumen + f\"\\n{Barline_text}\"\n",
        "        if(_gogo!=gogo):\n",
        "            _gogo = gogo\n",
        "            GOGO_text = \"#GOGOSTART\" if gogo else \"#GOGOEND\"\n",
        "            Remastered_fumen = Remastered_fumen + f\"\\n{GOGO_text}\"\n",
        "        if(delay!=0):\n",
        "            Remastered_fumen = Remastered_fumen + f\"\\n#DELAY {delay}\\n\"\n",
        "\n",
        "        Extra_Newline = \"\\n\" if IsCommandChange else \"\"\n",
        "        Remastered_fumen = Remastered_fumen + Extra_Newline + note\n",
        "        _note = note\n",
        "\n",
        "    Remastered_fumen = Remastered_fumen + \"\\n\"\n",
        "\n",
        "Remastered_fumen = Remastered_fumen + \"#END\"\n",
        "\n",
        "#Add Bar Number\n",
        "if BarNumberDisplayed:\n",
        "  Remastered_fumen_with_bar = \"\"\n",
        "  bar = 0\n",
        "  for char in Remastered_fumen:\n",
        "    Remastered_fumen_with_bar = Remastered_fumen_with_bar + char\n",
        "    if char==\",\":\n",
        "      bar = bar + 1\n",
        "      Remastered_fumen_with_bar = Remastered_fumen_with_bar + f\"//{bar}\"\n",
        "  Remastered_fumen = Remastered_fumen_with_bar\n",
        "\n",
        "#Model Used\n",
        "Remastered_fumen = Remastered_fumen + f\"\\n\\n//Sequence Length: {SEQ}\\n//Model Used:\\n//{MODEL_PATH}\"\n",
        "\n",
        "#Display/Save File\n",
        "match Result_Display:\n",
        "  case \"Print Out\":\n",
        "    print(Remastered_fumen)\n",
        "  case \"Save As File\":\n",
        "    FILE_NAME = song_branched.TITLE + '_' + song_branched.COURSE + '.tja'\n",
        "    with open(FILE_NAME, 'w') as writer:\n",
        "      writer.write(Remastered_fumen)\n",
        "    print(f\"Succesfully Ouput As A File Called \\\"{FILE_NAME}\\\"\")\n",
        "  case _:\n",
        "    raise Exception(\"Invalid Choice\")\n",
        "\n"
      ]
    },
    {
      "cell_type": "code",
      "source": [
        "# @title Result Possibility Check { form-width: \"240px\" }\n",
        "Demand_location =  [53, 8] # @param {type:\"raw\"}\n",
        "[Bar, Note] = Demand_location\n",
        "\n",
        "Result_type = [\"(0) Empty\", \"(1) Small Red\", \"(2) Small Blue\", \"(3) Big Red\", \"(4) Big Blue\"]\n",
        "\n",
        "def alignment(display_number):\n",
        "  if(display_number<10) : return \" \" + str(display_number)\n",
        "  return str(display_number)\n",
        "\n",
        "predictResult_posibility = softmax(predictResult) if Possibilty_Computation == 'Raw -> Sum/Avg -> Softmax' else predictResult\n",
        "\n",
        "location_existence = False\n",
        "for location, possibility_distribution in zip(LocationToNotes, predictResult_posibility):\n",
        "    if(location==Demand_location):\n",
        "        possibilty = possibility_distribution.tolist()\n",
        "        most_likely = possibilty.index(max(possibilty))\n",
        "        choosen = [\"\"]*5\n",
        "        choosen[most_likely] = \"(√)\"\n",
        "\n",
        "        print(f\"Location: Bar {Bar} / Note {Note}\")\n",
        "\n",
        "        print(\"\\nPossobility Distribution:\\n\")\n",
        "        print(f\" (0) Empty\\t: {alignment(round(possibilty[0]*100, 2))}\\t% {choosen[0]}\")\n",
        "        print(f\" (1) Small Red\\t: {alignment(round(possibilty[1]*100, 2))}\\t% {choosen[1]}\")\n",
        "        print(f\" (2) Small Blue\\t: {alignment(round(possibilty[2]*100, 2))}\\t% {choosen[2]}\")\n",
        "        print(f\" (3) Big Red\\t: {alignment(round(possibilty[3]*100, 2))}\\t% {choosen[3]}\")\n",
        "        print(f\" (4) Big Blue\\t: {alignment(round(possibilty[4]*100, 2))}\\t% {choosen[4]}\")\n",
        "        print(\"\\nModel Prediction: \" + Result_type[most_likely])\n",
        "\n",
        "        # Generate pie chart\n",
        "        labels = ['0', '1', '2', '3', '']\n",
        "        sizes = possibilty\n",
        "\n",
        "        # autopct='%1.1f%%' if size > 0.1 else '' 讓比例太小的類別不要顯示百分比\n",
        "        fig, ax = plt.subplots()\n",
        "        wedges, texts, autotexts = ax.pie(sizes, labels=labels, autopct=lambda pct: f'{pct:.1f}%' if pct > 1 else '',\n",
        "                                          startangle=90, pctdistance=0.85)\n",
        "\n",
        "        # draw circle in the middle to make it a donut chart\n",
        "        centre_circle = plt.Circle((0,0),0.70,fc='white')\n",
        "        fig.gca().add_artist(centre_circle)\n",
        "\n",
        "        # Equal aspect ratio ensures that pie is drawn as a circle.\n",
        "        ax.axis('equal')\n",
        "\n",
        "        plt.show()\n",
        "        location_existence = True\n",
        "        break\n",
        "\n",
        "if not location_existence: print(\"Location Not Found.\")"
      ],
      "metadata": {
        "colab": {
          "base_uri": "https://localhost:8080/",
          "height": 616
        },
        "cellView": "form",
        "id": "heDAKxMgpSOz",
        "outputId": "7799da03-7340-4302-bc9d-0f74bed3a04f"
      },
      "execution_count": null,
      "outputs": [
        {
          "output_type": "stream",
          "name": "stdout",
          "text": [
            "Location: Bar 53 / Note 8\n",
            "\n",
            "Possobility Distribution:\n",
            "\n",
            " (0) Empty\t: 41.51\t% (√)\n",
            " (1) Small Red\t: 38.5\t% \n",
            " (2) Small Blue\t: 19.54\t% \n",
            " (3) Big Red\t:  0.24\t% \n",
            " (4) Big Blue\t:  0.21\t% \n",
            "\n",
            "Model Prediction: (0) Empty\n"
          ]
        },
        {
          "output_type": "display_data",
          "data": {
            "text/plain": [
              "<Figure size 640x480 with 1 Axes>"
            ],
            "image/png": "[encoded data removed]"
          },
          "metadata": {}
        }
      ]
    },
    {
      "cell_type": "code",
      "source": [
        "def closure():\n",
        "  i = 0\n",
        "  def add():\n",
        "    i = i + 1\n",
        "    return i\n",
        "  return add"
      ],
      "metadata": {
        "id": "0iIQjowFprV2"
      },
      "execution_count": null,
      "outputs": []
    },
    {
      "cell_type": "code",
      "source": [
        "closure1 = closure()\n"
      ],
      "metadata": {
        "id": "f6jqx6hwp8Rv"
      },
      "execution_count": null,
      "outputs": []
    },
    {
      "cell_type": "code",
      "source": [
        "closure1()"
      ],
      "metadata": {
        "colab": {
          "base_uri": "https://localhost:8080/"
        },
        "id": "b1G6Og2-qLWf",
        "outputId": "b538dcb9-b39d-4b05-b4ae-9294db061682"
      },
      "execution_count": null,
      "outputs": [
        {
          "output_type": "execute_result",
          "data": {
            "text/plain": [
              "1"
            ]
          },
          "metadata": {},
          "execution_count": 18
        }
      ]
    },
    {
      "cell_type": "code",
      "source": [
        "for _ in range(5):\n",
        "  print(closure1())"
      ],
      "metadata": {
        "colab": {
          "base_uri": "https://localhost:8080/"
        },
        "id": "djs_CZepqBKP",
        "outputId": "0b65ce97-218d-4c95-f5bb-fc163dea1eab"
      },
      "execution_count": null,
      "outputs": [
        {
          "output_type": "stream",
          "name": "stdout",
          "text": [
            "1\n",
            "1\n",
            "1\n",
            "1\n",
            "1\n"
          ]
        }
      ]
    },
    {
      "cell_type": "markdown",
      "source": [
        "##Multiple To Single"
      ],
      "metadata": {
        "id": "HP66HK4rrPEg"
      }
    },
    {
      "cell_type": "code",
      "execution_count": 42,
      "metadata": {
        "cellView": "form",
        "id": "8ya3c4h1rcEQ",
        "colab": {
          "base_uri": "https://localhost:8080/"
        },
        "outputId": "3510bd44-6240-498d-d2b5-b1d8448e0f1b"
      },
      "outputs": [
        {
          "output_type": "stream",
          "name": "stdout",
          "text": [
            "Model Has Loaded Sucessfully\n"
          ]
        }
      ],
      "source": [
        "# @title Model/Parameter Defining { form-width: \"240px\" }\n",
        "\n",
        "# @title Model Main (single) { form-width: \"240px\" }\n",
        "\n",
        "import torch\n",
        "import torch.nn as nn\n",
        "import torch.nn.functional as F\n",
        "\n",
        "BATCH_FIRST = True # @param {type:\"boolean\"}\n",
        "DUAL_CHANNEL = False # @param {type:\"boolean\"}\n",
        "CHANNRL = 2 if DUAL_CHANNEL else 1\n",
        "\n",
        "C = CHANNRL\n",
        "ASIDE_NOTE = 7 # @param {type:\"integer\"}\n",
        "SEQ = ASIDE_NOTE*2 + 1\n",
        "\n",
        "Model_Design = 'New' # @param [\"Old\", \"New\"] {allow-input: false}\n",
        "\n",
        "if Model_Design == 'Old':\n",
        "  class Attention(nn.Module):\n",
        "      def __init__(self, dim, n_heads, dropout):\n",
        "          super().__init__()\n",
        "          self.n_heads = n_heads\n",
        "          self.att = torch.nn.MultiheadAttention(embed_dim=dim, num_heads=n_heads, dropout=dropout, batch_first=BATCH_FIRST)\n",
        "          self.q = torch.nn.Linear(dim, dim)\n",
        "          self.k = torch.nn.Linear(dim, dim)\n",
        "          self.v = torch.nn.Linear(dim, dim)\n",
        "\n",
        "      def forward(self, input):\n",
        "          output = []\n",
        "          for x in input:\n",
        "              q = self.q(x)\n",
        "              k = self.k(x)\n",
        "              v = self.v(x)\n",
        "              attn_output, attn_output_weights = self.att(q, k, v)\n",
        "              output.append(attn_output)\n",
        "          output = torch.stack(output)\n",
        "          return output\n",
        "\n",
        "if Model_Design == 'New':\n",
        "  class Attention(nn.Module):\n",
        "      def __init__(self, dim, n_heads, dropout):\n",
        "          super().__init__()\n",
        "          self.n_heads = n_heads\n",
        "          self.att = torch.nn.MultiheadAttention(embed_dim=dim, num_heads=n_heads, dropout=dropout, batch_first=True)\n",
        "          self.q = torch.nn.Linear(dim, dim)\n",
        "          self.k = torch.nn.Linear(dim, dim)\n",
        "          self.v = torch.nn.Linear(dim, dim)\n",
        "\n",
        "      def forward(self, x):\n",
        "          q = self.q(x)\n",
        "          k = self.k(x)\n",
        "          v = self.v(x)\n",
        "          attn_output, attn_output_weights = self.att(q, k, v)\n",
        "          return attn_output\n",
        "\n",
        "class PreNorm(nn.Module):\n",
        "    def __init__(self, dim, fn):\n",
        "        super().__init__()\n",
        "        self.norm = nn.LayerNorm(dim)\n",
        "        self.fn = fn\n",
        "    def forward(self, x, **kwargs):\n",
        "        return self.fn(self.norm(x), **kwargs)\n",
        "\n",
        "class FeedForward(nn.Sequential):\n",
        "    def __init__(self, dim, hidden_dim, dropout = 0.):\n",
        "        super().__init__()\n",
        "        self.feedforward = nn.Sequential \\\n",
        "        (\n",
        "            nn.Linear(dim, hidden_dim),\n",
        "            nn.GELU(),\n",
        "            nn.Dropout(dropout),\n",
        "            nn.Linear(hidden_dim, dim),\n",
        "            nn.Dropout(dropout)\n",
        "        )\n",
        "    def forward(self, x):\n",
        "        return self.feedforward(x)\n",
        "\n",
        "class ResidualAdd(nn.Module):\n",
        "    def __init__(self, fn):\n",
        "        super().__init__()\n",
        "        self.fn = fn\n",
        "\n",
        "    def forward(self, x, **kwargs):\n",
        "        res = x\n",
        "        x = self.fn(x, **kwargs)\n",
        "        x += res\n",
        "        return x\n",
        "\n",
        "class TaikoNoteClassfication(nn.Module):\n",
        "    def __init__(self, out_dim, C=C, num_patches=SEQ, emb_dim=128, n_layers=6, dropout=0.1, heads=4):\n",
        "        super(TaikoNoteClassfication, self).__init__()\n",
        "        self.conv1 = nn.Conv2d(in_channels=C, out_channels=32, kernel_size=(3, 3), stride=(1, 1), padding=(1, 1))\n",
        "        self.conv2 = nn.Conv2d(in_channels=32, out_channels=64, kernel_size=(3, 3), stride=(1, 1), padding=(1, 1))\n",
        "        self.conv3 = nn.Conv2d(in_channels=64, out_channels=128, kernel_size=(3, 3), stride=(1, 1), padding=(1, 1))\n",
        "\n",
        "        self.dropout = nn.Dropout(0.1)\n",
        "\n",
        "        self.pool = nn.MaxPool2d(kernel_size=(2, 2), stride=(2, 2), padding=(0, 0))\n",
        "\n",
        "        self.fc = nn.Linear(12288, emb_dim)\n",
        "\n",
        "        # Attributes\n",
        "        self.channels = C\n",
        "        self.n_layers = n_layers\n",
        "\n",
        "        # Learnable params\n",
        "        self.cls_token = nn.Parameter(torch.rand(1, 1, emb_dim))\n",
        "\n",
        "        # Transformer Encoder\n",
        "        self.layers = nn.ModuleList([])\n",
        "        for _ in range(n_layers):\n",
        "            transformer_block = nn.Sequential\\\n",
        "            (\n",
        "                ResidualAdd(PreNorm(emb_dim, Attention(emb_dim, n_heads = heads, dropout = dropout))),\n",
        "                ResidualAdd(PreNorm(emb_dim, FeedForward(emb_dim, emb_dim, dropout = dropout)))\n",
        "            )\n",
        "            self.layers.append(transformer_block)\n",
        "\n",
        "        # Classification head\n",
        "        self.head = nn.Sequential(nn.LayerNorm(emb_dim), nn.Linear(emb_dim, out_dim))\n",
        "\n",
        "        #position_encoding\n",
        "        PSE_UNIT = torch.ones(num_patches, emb_dim)\n",
        "        for pos in range(num_patches):\n",
        "          for i in range(emb_dim):\n",
        "            x = i//2\n",
        "            PSE_UNIT[pos][i] = torch.sin(torch.tensor(pos/1000**(x/emb_dim))) if (i % 2 == 0) else torch.cos(torch.tensor(pos/1000**(x/emb_dim)))\n",
        "        self.basic_pos_emb_unit = PSE_UNIT.to(device)\n",
        "\n",
        "        #self.fc_head = nn.Linear(emb_dim, out_dim*SEQ)\n",
        "        self.final_fc = nn.Linear(out_dim*SEQ, out_dim)\n",
        "\n",
        "        #self.final_zero_weight = nn.Parameter(torch.tensor([0,100,100,100,100]).float())\n",
        "\n",
        "\n",
        "    def forward(self, x):\n",
        "\n",
        "        batch_size, sequence_length, channels, height, width = x.size()\n",
        "        x = x.view(batch_size * sequence_length, channels, height, width)\n",
        "\n",
        "        x = self.pool(F.relu(self.conv1(x)))\n",
        "        x = self.pool(F.relu(self.conv2(x)))\n",
        "        x = self.pool(F.relu(self.conv3(x)))\n",
        "\n",
        "        x = x.view(batch_size, sequence_length, -1)  # Reshape to (batch_size, sequence_length, feature_dim)\n",
        "        x = self.fc(x)\n",
        "        # b, n, _ = x.shape\n",
        "\n",
        "        # Add position encoding to inputs\n",
        "        position_encoding = self.basic_pos_emb_unit.repeat(batch_size, 1, 1)\n",
        "        x = x + position_encoding\n",
        "\n",
        "        # Add cls token to inputs\n",
        "        cls_tokens = self.cls_token.repeat(batch_size, 1, 1)\n",
        "        x = torch.cat([cls_tokens, x], dim=1)\n",
        "\n",
        "        # Transformer layers\n",
        "        for i in range(self.n_layers):\n",
        "            x = self.layers[i](x)\n",
        "        final = self.head(x[:, 0, :])\n",
        "        # final = torch.mul(final, self.final_zero_weight)\n",
        "        return final\n",
        "\n",
        "device = \"cuda\" if torch.cuda.is_available() else \"cpu\"\n",
        "device\n",
        "\n",
        "model = TaikoNoteClassfication(5).to(device)\n",
        "\n",
        "# @title Parameters\n",
        "MODEL_PATH = \"/content/drive/MyDrive/20240730/aside_7_new/8_6248_7537.pth\" # @param {type:\"string\"}\n",
        "MAGNIFY = 1\n",
        "FREQ_BINS = 64\n",
        "SEGMENT = 100\n",
        "\n",
        "#載入儲存好的模型\n",
        "TaikoModel = TaikoNoteClassfication(5).to(device)\n",
        "TaikoModel.load_state_dict(torch.load(MODEL_PATH, map_location=torch.device(device)))\n",
        "TaikoModel.state_dict()\n",
        "TaikoModel.eval()\n",
        "\n",
        "print(\"Model Has Loaded Sucessfully\")\n"
      ]
    },
    {
      "cell_type": "code",
      "source": [
        "# @title Fumen Predicting { form-width: \"450px\" }\n",
        "\n",
        "def AdjustPeriod(period):\n",
        "    while(period>=4): period = period/2\n",
        "    while(period<=1/4): period = period*2\n",
        "    return period\n",
        "\n",
        "SOUNDWAVE, SR = torchaudio.load(Audio_path)\n",
        "SOUNDWAVE = SOUNDWAVE * MAGNIFY\n",
        "SOUNDWAVE = SOUNDWAVE.to(device)\n",
        "FRAMES_LENGTH = len(SOUNDWAVE[0])\n",
        "\n",
        "channel_num = (SOUNDWAVE.shape)[0]\n",
        "assert channel_num==1 or channel_num==2, \"Number of channel is not valid, expect 1 or 2.\"\n",
        "if(channel_num==1 and DUAL_CHANNEL):      SOUNDWAVE = SOUNDWAVE.repeat(2, 1)                               #將單聲道轉為雙聲道\n",
        "if(channel_num==2 and not DUAL_CHANNEL):  SOUNDWAVE = torch.unsqueeze((SOUNDWAVE[0]+SOUNDWAVE[1])/2, 0)    #將雙聲道轉為單聲道\n",
        "\n",
        "ZERO_CHANNEL_TENSOR = torch.full((CHANNRL, 1), 0).to(device)\n",
        "\n",
        "predictResult = []\n",
        "predictBar = []\n",
        "for NOTE_INDEX in tqdm(range(len(LocationToNotes))):\n",
        "    def SoundPartByFrame(NOTE_OFFSRT):\n",
        "        loop_index = NOTE_INDEX + NOTE_OFFSRT\n",
        "        if(loop_index<0 or loop_index>=len(LocationToNotes)):\n",
        "          return torch.zeros(CHANNRL, FREQ_BINS, SEGMENT+1).to(device)\n",
        "\n",
        "        location = LocationToNotes[loop_index]\n",
        "        [BAR, NOTE] = location\n",
        "        BPM = BpmConfiguration[BAR][NOTE]\n",
        "        PERIOD = AdjustPeriod(60 / BPM * 2)\n",
        "        SHAPE = int(PERIOD*SEGMENT+1)\n",
        "\n",
        "        EXACT_TIME = AbsoluteTime[loop_index]-PERIOD/2\n",
        "        STARTING_FRAME = int(EXACT_TIME*SR)\n",
        "        DURATION_FRAME = int(PERIOD*SR)\n",
        "        #起始點是否在音樂開始前 / 起始點是否在音樂開始後 / 終止點是否在音樂開始前 / 終止點是否在音樂結束後\n",
        "        IS_START_OUT_OF_MIN_INDEX = False if (STARTING_FRAME>=0) else True\n",
        "        IS_START_OUT_OF_MAX_INDEX = False if (STARTING_FRAME<FRAMES_LENGTH) else True\n",
        "        IS_FINAL_OUT_OF_NIN_INDEX = False if (STARTING_FRAME+DURATION_FRAME>=0) else True\n",
        "        IS_FINAL_OUT_OF_NAX_INDEX = False if (STARTING_FRAME+DURATION_FRAME<FRAMES_LENGTH) else True\n",
        "\n",
        "        assert not(IS_START_OUT_OF_MIN_INDEX and IS_START_OUT_OF_MAX_INDEX), f\"The Start Window being Out Of Start/End point At The Same Time Doesn't Make Sense.\"\n",
        "        assert not(IS_FINAL_OUT_OF_NIN_INDEX and IS_FINAL_OUT_OF_NAX_INDEX), f\"The Final Window being Out Of Start/End point At The Same Time Doesn't Make Sense.\"\n",
        "\n",
        "        match IS_START_OUT_OF_MIN_INDEX, IS_START_OUT_OF_MAX_INDEX, IS_FINAL_OUT_OF_NIN_INDEX, IS_FINAL_OUT_OF_NAX_INDEX:\n",
        "            case False  , False , _     , False : #正常情況\n",
        "                SLICE = SOUNDWAVE[:, STARTING_FRAME: STARTING_FRAME+DURATION_FRAME]\n",
        "            case True   , False , False , False : #開頭超出音樂開頭處，結尾則在音樂內\n",
        "                SLICE = SOUNDWAVE[:, 0: STARTING_FRAME+DURATION_FRAME]\n",
        "                while(len(SLICE[0])<DURATION_FRAME): SLICE = torch.cat((ZERO_CHANNEL_TENSOR, SLICE), dim=1)\n",
        "            case True   , False , True , False : #開頭和結尾都超出音樂開頭處\n",
        "                SLICE = torch.zeros(CHANNRL, DURATION_FRAME).to(device)\n",
        "            case False  , False , _    , True  : #結尾超出音樂結束處，開頭則在音樂內\n",
        "                SLICE = SOUNDWAVE[:, STARTING_FRAME: FRAMES_LENGTH]\n",
        "                while(len(SLICE[0])<DURATION_FRAME): SLICE = torch.cat((SLICE, ZERO_CHANNEL_TENSOR), dim=1)\n",
        "            case False  , True  , _    , True  : #開頭跟結尾都已經在整首音樂結束後了\n",
        "                SLICE = torch.zeros(CHANNRL, DURATION_FRAME).to(device)\n",
        "            case True   , _     , _    , True  : #不合理的情況，起始點在音樂開始前，終止點在音樂結束後\n",
        "                raise Exception(f\"Chosen Segment Is Less Then {PERIOD}s.\")\n",
        "\n",
        "        to_mel_spectrogram = torchaudio.transforms.MelSpectrogram(\n",
        "            sample_rate = DURATION_FRAME,  n_fft = 1024,       n_mels = FREQ_BINS,\n",
        "            hop_length = int( DURATION_FRAME / SEGMENT ),      f_min = 0,         f_max = int(SR/2),  normalized = True).to(device)\n",
        "\n",
        "        log_mel_spec = to_mel_spectrogram(SLICE)\n",
        "        return log_mel_spec\n",
        "\n",
        "    info_per_note = []\n",
        "    for aside_from_center in range(-ASIDE_NOTE, ASIDE_NOTE+1):\n",
        "        info_per_note.append(SoundPartByFrame(aside_from_center))\n",
        "    info_per_note = torch.stack(info_per_note)\n",
        "\n",
        "    with torch.inference_mode():\n",
        "      Result = TaikoModel(torch.unsqueeze(info_per_note, 0).to(device))\n",
        "      Result = torch.squeeze(Result)\n",
        "    predictResult.append(Result)\n",
        "    predictBar.append(Result.argmax().item())\n",
        "\n",
        "for x, y in zip(LocationToNotes, predictBar): song_branched.EveryBar[x[0]] = song_branched.EveryBar[x[0]][:x[1]] + str(y) + song_branched.EveryBar[x[0]][x[1]+1:]"
      ],
      "metadata": {
        "colab": {
          "base_uri": "https://localhost:8080/",
          "height": 49,
          "referenced_widgets": [
            "8622749f434241789bd524d1860b6d7f",
            "5aa6115ff2ce4b86beed671794b83090",
            "925681ba631d47a297dff2d0fd0bade5",
            "971483ec8139439c90eab0ed03432dea",
            "f81c638880244a6caf36953cf7c1b854",
            "4d7783ae020443c8bc8c322bdeea75b7",
            "bd061ef9e5cf4b3cb35075909332d342",
            "9b95eb3e8b66479b9d8fd05fada9cb3f",
            "d184776ea29d405291ddf80b96ff251d",
            "08285df7e7014fbbb861d7d6c5cf8740",
            "0f33584877bc4420a71ab42637321978"
          ]
        },
        "cellView": "form",
        "id": "fagNhXqYuUkx",
        "outputId": "dcf5f2b9-719d-4c8c-ca20-5572f9a3f1a5"
      },
      "execution_count": 43,
      "outputs": [
        {
          "output_type": "display_data",
          "data": {
            "text/plain": [
              "  0%|          | 0/7712 [00:00<?, ?it/s]"
            ],
            "application/vnd.jupyter.widget-view+json": {
              "version_major": 2,
              "version_minor": 0,
              "model_id": "8622749f434241789bd524d1860b6d7f"
            }
          },
          "metadata": {}
        }
      ]
    },
    {
      "cell_type": "code",
      "execution_count": 41,
      "metadata": {
        "colab": {
          "base_uri": "https://localhost:8080/"
        },
        "cellView": "form",
        "outputId": "dd58af48-9ef2-4cb4-e677-4d7001ee6a9d",
        "id": "mMMDYxZeuaFb"
      },
      "outputs": [
        {
          "output_type": "stream",
          "name": "stdout",
          "text": [
            "Succesfully Ouput As A File Called \"Touhou_Suite_Oni.tja\"\n"
          ]
        }
      ],
      "source": [
        "# @title Result { form-width: \"240px\" }\n",
        "\n",
        "BarNumberDisplayed = True # @param {type:\"boolean\"}\n",
        "Result_Display = \"Save As File\" # @param [\"Print Out\", \"Save As File\"]\n",
        "\n",
        "#印出結果\n",
        "TempContent = song_branched.OffsetThingsValue(\"BPM:\",[song_branched.ChosenReady,song_branched.ChosenBegin]) #預設使用譜面開始前設定的BPM\n",
        "if(TempContent==\"\"): TempContent = song_branched.OffsetThingsValue(\"BPM:\",[0, song_branched.Song_Begin[0]]) #沒有該譜面自設定的BPM，則沿用譜面檔案一開始能找到的數值\n",
        "\n",
        "TITLE = song_branched.TITLE\n",
        "SUBTITLE = song_branched.OffsetThingsValue(\"SUBTITLE:\",[0,len(song_branched.EveryRow)])\n",
        "INIT_BPM = TempContent\n",
        "WAVE = song_branched.OffsetThingsValue(\"WAVE:\",[0,len(song_branched.EveryRow)])\n",
        "OFFSET = OFFSET\n",
        "LEVEL = 9 # @param {type:\"integer\"}\n",
        "COURSE = 3 # @param {type:\"integer\"}\n",
        "\n",
        "_bpm = float(TempContent)\n",
        "_scr = 1\n",
        "_measure = [4, 4]\n",
        "_barline = True\n",
        "_gogo = False\n",
        "_note = None\n",
        "\n",
        "set_bpm = song_branched.BPMValueSet\n",
        "set_scr = song_branched.ScrollSet\n",
        "set_measure = song_branched.BeatsToMeasureSet\n",
        "set_barline = song_branched.BarlineSet\n",
        "set_gogo = song_branched.GOGOSet\n",
        "set_delay = song_branched.DelaySet\n",
        "\n",
        "Remastered_fumen = \"\"\n",
        "\n",
        "#Basic Info\n",
        "Remastered_fumen += f\"TITLE:{TITLE}\\n\"\n",
        "Remastered_fumen += f\"SUBTITLE:{SUBTITLE}\\n\"\n",
        "Remastered_fumen += f\"BPM:{INIT_BPM}\\n\"\n",
        "Remastered_fumen += f\"WAVE:{WAVE}\\n\"\n",
        "Remastered_fumen += f\"OFFSET:{OFFSET}\\n\"\n",
        "Remastered_fumen += f\"LEVEL:{LEVEL}\\n\"\n",
        "Remastered_fumen += f\"COURSE:{COURSE}\\n\"\n",
        "\n",
        "Remastered_fumen += \"#START\\n\"\n",
        "\n",
        "#Actual Fumen Context\n",
        "for bar, bar_bpm, bar_scr, bar_measure, bar_barline, bar_gogo, bar_delay in zip(song_branched.EveryBar, set_bpm, set_scr, set_measure, set_barline, set_gogo, set_delay):\n",
        "    for note, bpm, scr, measure, barline, gogo, delay in zip(bar, bar_bpm, bar_scr, bar_measure, bar_barline, bar_gogo, bar_delay):\n",
        "        IsCommandChange = True if (_bpm, _scr, _measure, _barline, _gogo) != (bpm, scr, measure, barline, gogo) else False\n",
        "        #如果現在有指令的話，會在開頭自動加上一次換行。而如果上一個位置就是小節結束點(換行)，那就省掉上一次加的換行\n",
        "        if( IsCommandChange and ( _note == \",\" or _note is None ) ):  Remastered_fumen = Remastered_fumen[:-1]\n",
        "        if(_bpm!=bpm):\n",
        "            _bpm = bpm\n",
        "            Remastered_fumen = Remastered_fumen + f\"\\n#BPMCHANGE {bpm}\"\n",
        "        if(_scr!=scr):\n",
        "            _scr = scr\n",
        "            Scroll_text = str(scr.real) if (scr.imag==0) else f\"{scr.real}+{scr.imag}i\"\n",
        "            Remastered_fumen = Remastered_fumen + f\"\\n#SCROLL {Scroll_text}\"\n",
        "        if(_measure!=measure):\n",
        "            _measure = measure\n",
        "            Remastered_fumen = Remastered_fumen + f\"\\n#MEASURE {measure[0]}/{measure[1]}\"\n",
        "        if(_barline!=barline):\n",
        "            _barline = barline\n",
        "            Barline_text = \"#BARLINEON\" if barline else \"#BARLINEOFF\"\n",
        "            Remastered_fumen = Remastered_fumen + f\"\\n{Barline_text}\"\n",
        "        if(_gogo!=gogo):\n",
        "            _gogo = gogo\n",
        "            GOGO_text = \"#GOGOSTART\" if gogo else \"#GOGOEND\"\n",
        "            Remastered_fumen = Remastered_fumen + f\"\\n{GOGO_text}\"\n",
        "        if(delay!=0):\n",
        "            Remastered_fumen = Remastered_fumen + f\"\\n#DELAY {delay}\\n\"\n",
        "\n",
        "        Extra_Newline = \"\\n\" if IsCommandChange else \"\"\n",
        "        Remastered_fumen = Remastered_fumen + Extra_Newline + note\n",
        "        _note = note\n",
        "\n",
        "    Remastered_fumen = Remastered_fumen + \"\\n\"\n",
        "\n",
        "Remastered_fumen = Remastered_fumen + \"#END\"\n",
        "\n",
        "#Add Bar Number\n",
        "if BarNumberDisplayed:\n",
        "  Remastered_fumen_with_bar = \"\"\n",
        "  bar = 0\n",
        "  for char in Remastered_fumen:\n",
        "    Remastered_fumen_with_bar = Remastered_fumen_with_bar + char\n",
        "    if char==\",\":\n",
        "      bar = bar + 1\n",
        "      Remastered_fumen_with_bar = Remastered_fumen_with_bar + f\"//{bar}\"\n",
        "  Remastered_fumen = Remastered_fumen_with_bar\n",
        "\n",
        "#Model Used\n",
        "Remastered_fumen = Remastered_fumen + f\"\\n\\n//Sequence Length: {SEQ}\\n//Model Used:\\n//{MODEL_PATH}\"\n",
        "\n",
        "#Display/Save File\n",
        "match Result_Display:\n",
        "  case \"Print Out\":\n",
        "    print(Remastered_fumen)\n",
        "  case \"Save As File\":\n",
        "    FILE_NAME = song_branched.TITLE + '_' + song_branched.COURSE + '.tja'\n",
        "    with open(FILE_NAME, 'w', encoding=Codec) as writer:\n",
        "      writer.write(Remastered_fumen)\n",
        "    print(f\"Succesfully Ouput As A File Called \\\"{FILE_NAME}\\\"\")\n",
        "  case _:\n",
        "    raise Exception(\"Invalid Choice\")\n",
        "\n"
      ]
    },
    {
      "cell_type": "code",
      "source": [
        "# @title Result Possibility Check { form-width: \"240px\" }\n",
        "import matplotlib.pyplot as plt\n",
        "Demand_location =  [117, 0] # @param {type:\"raw\"}\n",
        "[Bar, Note] = Demand_location\n",
        "\n",
        "Result_type = [\"(0) Empty\", \"(1) Small Red\", \"(2) Small Blue\", \"(3) Big Red\", \"(4) Big Blue\"]\n",
        "\n",
        "softmax = nn.Softmax(dim=1)\n",
        "\n",
        "def alignment(display_number):\n",
        "  if(display_number<10) : return \" \" + str(display_number)\n",
        "  return str(display_number)\n",
        "\n",
        "location_existence = False\n",
        "for location, possibility_distribution in zip(LocationToNotes, softmax(torch.stack(predictResult))):\n",
        "    if(location==Demand_location):\n",
        "        possibilty = possibility_distribution.tolist()\n",
        "        most_likely = possibilty.index(max(possibilty))\n",
        "        choosen = [\"\"]*5\n",
        "        choosen[most_likely] = \"(√)\"\n",
        "\n",
        "        print(f\"Location: Bar {Bar} / Note {Note}\")\n",
        "\n",
        "        print(\"\\nPossobility Distribution:\\n\")\n",
        "        print(f\" (0) Empty\\t: {alignment(round(possibilty[0]*100, 2))}\\t% {choosen[0]}\")\n",
        "        print(f\" (1) Small Red\\t: {alignment(round(possibilty[1]*100, 2))}\\t% {choosen[1]}\")\n",
        "        print(f\" (2) Small Blue\\t: {alignment(round(possibilty[2]*100, 2))}\\t% {choosen[2]}\")\n",
        "        print(f\" (3) Big Red\\t: {alignment(round(possibilty[3]*100, 2))}\\t% {choosen[3]}\")\n",
        "        print(f\" (4) Big Blue\\t: {alignment(round(possibilty[4]*100, 2))}\\t% {choosen[4]}\")\n",
        "        print(\"\\nModel Prediction: \" + Result_type[most_likely])\n",
        "\n",
        "        # Generate pie chart\n",
        "        labels = ['0', '1', '2', '3', '']\n",
        "        sizes = possibilty\n",
        "\n",
        "        # autopct='%1.1f%%' if size > 0.1 else '' 讓比例太小的類別不要顯示百分比\n",
        "        fig, ax = plt.subplots()\n",
        "        wedges, texts, autotexts = ax.pie(sizes, labels=labels, autopct=lambda pct: f'{pct:.1f}%' if pct > 1 else '',\n",
        "                                          startangle=90, pctdistance=0.85)\n",
        "\n",
        "        # draw circle in the middle to make it a donut chart\n",
        "        centre_circle = plt.Circle((0,0),0.70,fc='white')\n",
        "        fig.gca().add_artist(centre_circle)\n",
        "\n",
        "        # Equal aspect ratio ensures that pie is drawn as a circle.\n",
        "        ax.axis('equal')\n",
        "\n",
        "        plt.show()\n",
        "        location_existence = True\n",
        "        break\n",
        "\n",
        "if not location_existence: print(\"Location Not Found.\")"
      ],
      "metadata": {
        "colab": {
          "base_uri": "https://localhost:8080/",
          "height": 616
        },
        "cellView": "form",
        "outputId": "051bca59-e099-4531-e950-bbf6348619fe",
        "id": "5lUGHIHCvBIu"
      },
      "execution_count": 46,
      "outputs": [
        {
          "output_type": "stream",
          "name": "stdout",
          "text": [
            "Location: Bar 117 / Note 0\n",
            "\n",
            "Possobility Distribution:\n",
            "\n",
            " (0) Empty\t: 28.54\t% \n",
            " (1) Small Red\t: 57.85\t% (√)\n",
            " (2) Small Blue\t: 13.24\t% \n",
            " (3) Big Red\t:  0.24\t% \n",
            " (4) Big Blue\t:  0.13\t% \n",
            "\n",
            "Model Prediction: (1) Small Red\n"
          ]
        },
        {
          "output_type": "display_data",
          "data": {
            "text/plain": [
              "<Figure size 640x480 with 1 Axes>"
            ],
            "image/png": "[encoded data removed]"
          },
          "metadata": {}
        }
      ]
    },
    {
      "cell_type": "markdown",
      "source": [
        "##Unused Parts"
      ],
      "metadata": {
        "id": "JM6BzS4Owq3d"
      }
    },
    {
      "cell_type": "code",
      "execution_count": null,
      "metadata": {
        "id": "fl_aqa2UjNfs",
        "outputId": "ec1e4101-3696-430d-b9ee-c507188c979b",
        "colab": {
          "base_uri": "https://localhost:8080/"
        }
      },
      "outputs": [
        {
          "output_type": "execute_result",
          "data": {
            "text/plain": [
              "tensor([3181, 3182, 3183, 3184, 3185, 3186, 3187, 3188, 3189, 3190, 3191, 3192,\n",
              "        3193, 3194, 3195, 3196])"
            ]
          },
          "metadata": {},
          "execution_count": 10
        }
      ],
      "source": [
        "torch.tensor(range(NOTE_INDEX-15, NOTE_INDEX+1))"
      ]
    },
    {
      "cell_type": "code",
      "execution_count": null,
      "metadata": {
        "id": "uWK9-SbgjNfs"
      },
      "outputs": [],
      "source": [
        "Result = TaikoModel(torch.unsqueeze(predictBar, 0).to(device))"
      ]
    },
    {
      "cell_type": "code",
      "execution_count": null,
      "metadata": {
        "id": "S9aUQHbWjNfs",
        "outputId": "fdfc1f52-3690-4489-8462-1d9b70c23f27"
      },
      "outputs": [
        {
          "data": {
            "text/plain": [
              "torch.Size([1, 16, 5])"
            ]
          },
          "execution_count": 30,
          "metadata": {},
          "output_type": "execute_result"
        }
      ],
      "source": [
        "Result.shape"
      ]
    },
    {
      "cell_type": "code",
      "execution_count": null,
      "metadata": {
        "id": "qxBO8BkdjNfs",
        "outputId": "b9e3ec34-ff7b-46c5-a7d2-5b4a68f7e7b7"
      },
      "outputs": [
        {
          "data": {
            "text/plain": [
              "\"1001101000001010ensor(0, device='cuda:0')nsor(1, device='cuda:0')nsor(0, device='cuda:0')nsor(1, device='cuda:0')nsor(0, device='cuda:0')nsor(0, device='cuda:0')nsor(0, device='cuda:0')nsor(0, device='cuda:0')nsor(0, device='cuda:0')nsor(1, device='cuda:0')nsor(0, device='cuda:0')nsor(1, device='cuda:0')nsor(1, device='cuda:0')nsor(0, device='cuda:0')nsor(0, device='cuda:0')nsor(1, device='cuda:0')tttttttttttttttensor(0, device='cuda:0')nsor(1, device='cuda:0')nsor(0, device='cuda:0')nsor(1, device='cuda:0')nsor(0, device='cuda:0')nsor(0, device='cuda:0')nsor(0, device='cuda:0')nsor(0, device='cuda:0')nsor(0, device='cuda:0')nsor(1, device='cuda:0')nsor(0, device='cuda:0')nsor(1, device='cuda:0')nsor(1, device='cuda:0')nsor(0, device='cuda:0')nsor(0, device='cuda:0')nsor(1, device='cuda:0')tttttttttttttttensor(0, device='cuda:0')nsor(1, device='cuda:0')nsor(0, device='cuda:0')nsor(1, device='cuda:0')nsor(0, device='cuda:0')nsor(0, device='cuda:0')nsor(0, device='cuda:0')nsor(0, device='cuda:0')nsor(0, device='cuda:0')nsor(1, device='cuda:0')nsor(0, device='cuda:0')nsor(1, device='cuda:0')nsor(1, device='cuda:0')nsor(0, device='cuda:0')nsor(0, device='cuda:0')nsor(1, device='cuda:0')tttttttttttttttensor(0, device='cuda:0')nsor(1, device='cuda:0')nsor(0, device='cuda:0')nsor(1, device='cuda:0')nsor(0, device='cuda:0')nsor(0, device='cuda:0')nsor(0, device='cuda:0')nsor(0, device='cuda:0')nsor(0, device='cuda:0')nsor(1, device='cuda:0')nsor(0, device='cuda:0')nsor(1, device='cuda:0')nsor(1, device='cuda:0')nsor(0, device='cuda:0')nsor(0, device='cuda:0')nsor(1, device='cuda:0')tttttttttttttttensor(0, device='cuda:0')nsor(1, device='cuda:0')nsor(0, device='cuda:0')nsor(1, device='cuda:0')nsor(0, device='cuda:0')nsor(0, device='cuda:0')nsor(0, device='cuda:0')nsor(0, device='cuda:0')nsor(0, device='cuda:0')nsor(1, device='cuda:0')nsor(0, device='cuda:0')nsor(1, device='cuda:0')nsor(1, device='cuda:0')nsor(0, device='cuda:0')nsor(0, device='cuda:0')nsor(1, device='cuda:0')tttttttttttttttensor(0, device='cuda:0')nsor(1, device='cuda:0')nsor(0, device='cuda:0')nsor(1, device='cuda:0')nsor(0, device='cuda:0')nsor(0, device='cuda:0')nsor(0, device='cuda:0')nsor(0, device='cuda:0')nsor(0, device='cuda:0')nsor(1, device='cuda:0')nsor(0, device='cuda:0')nsor(1, device='cuda:0')nsor(1, device='cuda:0')nsor(0, device='cuda:0')nsor(0, device='cuda:0')nsor(1, device='cuda:0')tttttttttttttttensor([  2.0602,  -1.1333,  -1.2791,  -7.6051, -10.3517], device='cuda:0')nsor([ 0.3299,  0.7491,  0.4427, -2.7827, -3.2434], device='cuda:0')nsor([ 0.7643,  0.4481,  0.2091, -2.7930, -3.3335], device='cuda:0')nsor([-0.6854,  1.0428,  0.3001, -1.3864, -2.8701], device='cuda:0')nsor([  2.4198,  -1.7323,  -1.1676, -10.5802, -14.9970], device='cuda:0')nsor([ 1.2861, -1.0893, -1.2108, -6.7227, -8.1626], device='cuda:0')nsor([ 0.8903, -0.2257, -0.8776, -5.3714, -7.7256], device='cuda:0')nsor([ 0.9878, -0.3262, -0.4572, -3.9851, -4.9786], device='cuda:0')nsor([  1.8780,  -2.0071,  -1.8678,  -8.8483, -12.4361], device='cuda:0')nsor([-0.1143,  1.5610,  0.5316, -2.3551, -4.4144], device='cuda:0')nsor([  2.6903,  -2.2031,  -2.2835, -11.0680, -16.2921], device='cuda:0')nsor([ 0.4383,  0.6410,  0.4578, -2.6969, -2.9209], device='cuda:0')nsor([ 0.7790,  2.1065,  0.1592, -4.4228, -8.3236], device='cuda:0')nsor([ 1.3943e+00,  2.5755e-03,  8.3635e-02, -4.2440e+00, -6.3892e+00],\\n       device='cuda:0')nsor([ 1.5241, -1.0313, -0.7847, -6.9959, -9.3598], device='cuda:0')nsor([-1.0910,  2.8801,  1.1715, -2.9707, -6.5554], device='cuda:0')tttttttttttttttensor([  2.0602,  -1.1333,  -1.2791,  -7.6051, -10.3517], device='cuda:0')nsor([ 0.3299,  0.7491,  0.4427, -2.7827, -3.2434], device='cuda:0')nsor([ 0.7643,  0.4481,  0.2091, -2.7930, -3.3335], device='cuda:0')nsor([-0.6854,  1.0428,  0.3001, -1.3864, -2.8701], device='cuda:0')nsor([  2.4198,  -1.7323,  -1.1676, -10.5802, -14.9970], device='cuda:0')nsor([ 1.2861, -1.0893, -1.2108, -6.7227, -8.1626], device='cuda:0')nsor([ 0.8903, -0.2257, -0.8776, -5.3714, -7.7256], device='cuda:0')nsor([ 0.9878, -0.3262, -0.4572, -3.9851, -4.9786], device='cuda:0')nsor([  1.8780,  -2.0071,  -1.8678,  -8.8483, -12.4361], device='cuda:0')nsor([-0.1143,  1.5610,  0.5316, -2.3551, -4.4144], device='cuda:0')nsor([  2.6903,  -2.2031,  -2.2835, -11.0680, -16.2921], device='cuda:0')nsor([ 0.4383,  0.6410,  0.4578, -2.6969, -2.9209], device='cuda:0')nsor([ 0.7790,  2.1065,  0.1592, -4.4228, -8.3236], device='cuda:0')nsor([ 1.3943e+00,  2.5755e-03,  8.3635e-02, -4.2440e+00, -6.3892e+00],\\n       device='cuda:0')nsor([ 1.5241, -1.0313, -0.7847, -6.9959, -9.3598], device='cuda:0')nsor([-1.0910,  2.8801,  1.1715, -2.9707, -6.5554], device='cuda:0')tttttttttttttttensor([  2.0602,  -1.1333,  -1.2791,  -7.6051, -10.3517], device='cuda:0')nsor([ 0.3299,  0.7491,  0.4427, -2.7827, -3.2434], device='cuda:0')nsor([ 0.7643,  0.4481,  0.2091, -2.7930, -3.3335], device='cuda:0')nsor([-0.6854,  1.0428,  0.3001, -1.3864, -2.8701], device='cuda:0')nsor([  2.4198,  -1.7323,  -1.1676, -10.5802, -14.9970], device='cuda:0')nsor([ 1.2861, -1.0893, -1.2108, -6.7227, -8.1626], device='cuda:0')nsor([ 0.8903, -0.2257, -0.8776, -5.3714, -7.7256], device='cuda:0')nsor([ 0.9878, -0.3262, -0.4572, -3.9851, -4.9786], device='cuda:0')nsor([  1.8780,  -2.0071,  -1.8678,  -8.8483, -12.4361], device='cuda:0')nsor([-0.1143,  1.5610,  0.5316, -2.3551, -4.4144], device='cuda:0')nsor([  2.6903,  -2.2031,  -2.2835, -11.0680, -16.2921], device='cuda:0')nsor([ 0.4383,  0.6410,  0.4578, -2.6969, -2.9209], device='cuda:0')nsor([ 0.7790,  2.1065,  0.1592, -4.4228, -8.3236], device='cuda:0')nsor([ 1.3943e+00,  2.5755e-03,  8.3635e-02, -4.2440e+00, -6.3892e+00],\\n       device='cuda:0')nsor([ 1.5241, -1.0313, -0.7847, -6.9959, -9.3598], device='cuda:0')nsor([-1.0910,  2.8801,  1.1715, -2.9707, -6.5554], device='cuda:0')002102000102001,\""
            ]
          },
          "execution_count": 86,
          "metadata": {},
          "output_type": "execute_result"
        }
      ],
      "source": [
        "song_branched.EveryBar[0]"
      ]
    },
    {
      "cell_type": "code",
      "execution_count": null,
      "metadata": {
        "id": "XTRCIdY9jNfs"
      },
      "outputs": [],
      "source": [
        "summary(model=TaikoModel, input_size=(128,2,64,101), col_names=['input_size', 'output_size', 'num_params', 'trainable'])"
      ]
    },
    {
      "cell_type": "code",
      "execution_count": null,
      "metadata": {
        "id": "vK0gpfkLjNfs"
      },
      "outputs": [],
      "source": [
        "# for x, y in zip(LocationToNotes, predictBar):\n",
        "#   print(f\"\\r{x}     \",end='')\n",
        "#   song_branched.EveryBar[x[0]] = song_branched.EveryBar[x[0]][:x[1]] + str(y) + song_branched.EveryBar[x[0]][x[1]+1:]\n"
      ]
    },
    {
      "cell_type": "code",
      "execution_count": null,
      "metadata": {
        "id": "mv2n9HKajNfs"
      },
      "outputs": [],
      "source": [
        "\"Aaaa\".lower()"
      ]
    },
    {
      "cell_type": "code",
      "execution_count": null,
      "metadata": {
        "id": "atqKUCytjNfs"
      },
      "outputs": [],
      "source": [
        "import time"
      ]
    },
    {
      "cell_type": "code",
      "execution_count": null,
      "metadata": {
        "id": "r-GSL6ngjNft"
      },
      "outputs": [],
      "source": [
        "def fib(x:int) -> int:\n",
        "    assert x>=0, \"Input Cannot Be Negative.\"\n",
        "    if x==0 : return 0\n",
        "    init = [0,0,1]\n",
        "    for _ in range(x - 1): init = [init[1], init[2], init[1] + init[2]]\n",
        "    return init[2]\n",
        "\n",
        "#1, 1, 2, 3, 5, 8, 13, 21\n"
      ]
    },
    {
      "cell_type": "code",
      "execution_count": null,
      "metadata": {
        "id": "SKiARoAyjNft"
      },
      "outputs": [],
      "source": [
        "def ReducedBar(Bar):\n",
        "    All_Zero_Except_First = True\n",
        "    for Note in Bar[1:]:\n",
        "        if(Note!='0' and Note!=','):\n",
        "            All_Zero_Except_First = False\n",
        "            break\n",
        "    if All_Zero_Except_First:\n",
        "        if Bar[0]!='0' : return Bar[0] + ','\n",
        "        else: return ','\n",
        "\n",
        "    Prime = [2, 3, 5, 7, 11, 13, 17, 19, 23, 29]\n",
        "    for Number in Prime:\n",
        "        TempBar = ''\n",
        "        Reducable = True\n",
        "        for i in range(len(Bar)):\n",
        "            if( i%Number!=0 and Bar[i]!='0' ):\n",
        "                Reducable = False\n",
        "                break\n",
        "            if i%Number==0 : TempBar = TempBar + Bar[i]\n",
        "        if Reducable: return ReducedBar(TempBar)\n",
        "    return Bar\n"
      ]
    },
    {
      "cell_type": "code",
      "execution_count": null,
      "metadata": {
        "id": "BMCXXFNkjNft"
      },
      "outputs": [],
      "source": [
        "def ReducedRow(Row):\n",
        "    Row_Decomposition = Row.split('//')\n",
        "    Actual = Row_Decomposition[0]\n",
        "    Extra = \"//\" + Row_Decomposition[1] if len(Row_Decomposition)==2 else \"\"\n",
        "\n",
        "    All_Zero_Except_First = True\n",
        "    for Note in Actual[1:]:\n",
        "        if(Note!='0' and Note!=','):\n",
        "            All_Zero_Except_First = False\n",
        "            break\n",
        "    if All_Zero_Except_First:\n",
        "        if Actual[0]!='0' : return Actual[0]\n",
        "        else: return ''\n",
        "\n",
        "    Prime = [2, 3, 5, 7, 11, 13, 17, 19, 23, 29]\n",
        "    for Number in Prime:\n",
        "        TempBar = ''\n",
        "        Reducable = True\n",
        "        for i in range(len(Actual)):\n",
        "            if( i%Number!=0 and Actual[i]!='0' ):\n",
        "                Reducable = False\n",
        "                break\n",
        "            if i%Number==0 : TempBar = TempBar + Actual[i]\n",
        "        if Reducable: return ReducedBar(Actual) + Extra\n",
        "    return Actual"
      ]
    },
    {
      "cell_type": "code",
      "execution_count": null,
      "metadata": {
        "id": "EafUUxfkjNft"
      },
      "outputs": [],
      "source": [
        "def IsEveryInArrayEqual(Array):\n",
        "    for i in range(len(Array)-1):\n",
        "        if(Array[i]!=Array[i+1]): return False\n",
        "    return True"
      ]
    },
    {
      "cell_type": "code",
      "execution_count": null,
      "metadata": {
        "id": "ngoRIGUPjNft"
      },
      "outputs": [],
      "source": [
        "list(range(0,5,2))"
      ]
    },
    {
      "cell_type": "code",
      "execution_count": null,
      "metadata": {
        "id": "fglQ04TDjNft"
      },
      "outputs": [],
      "source": [
        "def ReducedInfoSet(Set):\n",
        "    Prime = [2, 3, 5, 7, 11, 13, 17, 19, 23, 29]\n",
        "    Temp_Reduced_Set = Set[:]\n",
        "    print(Temp_Reduced_Set)\n",
        "    #Reduced_mapping = {}\n",
        "    for Number in Prime:\n",
        "        Temp_Reduced_Set = []\n",
        "        Is_EverySegEqual = True\n",
        "        for i in range(0, len(Set), Number):\n",
        "            ComardList = Set[i:i+Number]\n",
        "            print(i,i+Number)\n",
        "            if not IsEveryInArrayEqual(ComardList): Is_EverySegEqual = False\n",
        "            Temp_Reduced_Set.append(Set[i])\n",
        "            time.sleep(0.15)\n",
        "            print(ComardList, IsEveryInArrayEqual(ComardList))\n",
        "        #Reduced_mapping[Number] = Temp_Reduced_Set\n",
        "        print(f\"{Number}\")\n",
        "        #time.sleep(1.5)\n",
        "        print(\"\\n\")\n",
        "\n",
        "        print(Is_EverySegEqual)\n",
        "        if Is_EverySegEqual:\n",
        "            return  ReducedInfoSet(Temp_Reduced_Set)\n",
        "    return Set"
      ]
    },
    {
      "cell_type": "code",
      "execution_count": null,
      "metadata": {
        "id": "v-Z-55dtjNft"
      },
      "outputs": [],
      "source": [
        "IsEveryInArrayEqual([2,2,[1,2]])"
      ]
    },
    {
      "cell_type": "code",
      "execution_count": null,
      "metadata": {
        "id": "oxTEecR7jNft"
      },
      "outputs": [],
      "source": [
        "[[1,4],[2,3],[2,5],[True,56],{2,5},[5,2]][1:5]"
      ]
    },
    {
      "cell_type": "code",
      "execution_count": null,
      "metadata": {
        "id": "L6mw6RTsjNft"
      },
      "outputs": [],
      "source": [
        "CustomLayer = [(1+0j), (1+0j), (1+0j), (1+0j), (1+0j), (1+0j), (1+0j), (10+0j)]\n",
        "CustomLayer[:-1]"
      ]
    },
    {
      "cell_type": "code",
      "execution_count": null,
      "metadata": {
        "id": "QxpKGn4YjNft"
      },
      "outputs": [],
      "source": [
        "song_branched.ScrollSet[21]"
      ]
    },
    {
      "cell_type": "code",
      "execution_count": null,
      "metadata": {
        "id": "uQvVjoa1jNfq"
      },
      "outputs": [],
      "source": [
        "import torch\n",
        "import torch.nn as nn\n",
        "import torch.nn.functional as F\n",
        "\n",
        "C = CHANNRL\n",
        "class SelfAttention(nn.Module):\n",
        "    def __init__(self, embed_size, heads):\n",
        "        super(SelfAttention, self).__init__()\n",
        "        self.embed_size = embed_size\n",
        "        self.heads = heads\n",
        "        self.head_dim = embed_size // heads\n",
        "\n",
        "        assert self.head_dim * heads == embed_size, \"Embedding size needs to be divisible by heads\"\n",
        "\n",
        "        self.values = nn.Linear(self.head_dim, self.head_dim, bias=False)\n",
        "        self.keys = nn.Linear(self.head_dim, self.head_dim, bias=False)\n",
        "        self.queries = nn.Linear(self.head_dim, self.head_dim, bias=False)\n",
        "        self.fc_out = nn.Linear(heads * self.head_dim, embed_size)\n",
        "\n",
        "    def forward(self, values, keys, query, mask=None):\n",
        "        N = query.shape[0]\n",
        "        value_len, key_len, query_len = values.shape[1], keys.shape[1], query.shape[1]\n",
        "\n",
        "        # Split embedding into self.heads pieces\n",
        "        values = values.reshape(N, value_len, self.heads, self.head_dim)\n",
        "        keys = keys.reshape(N, key_len, self.heads, self.head_dim)\n",
        "        queries = query.reshape(N, query_len, self.heads, self.head_dim)\n",
        "\n",
        "        values = self.values(values)\n",
        "        keys = self.keys(keys)\n",
        "        queries = self.queries(queries)\n",
        "\n",
        "        # Scaled dot-product attention\n",
        "        energy = torch.einsum(\"nqhd,nkhd->nhqk\", [queries, keys])\n",
        "        if mask is not None:\n",
        "            energy = energy.masked_fill(mask == 0, float(\"-1e20\"))\n",
        "\n",
        "        attention = torch.softmax(energy / (self.embed_size ** 0.5), dim=3)\n",
        "\n",
        "        out = torch.einsum(\"nhql,nlhd->nqhd\", [attention, values]).reshape(N, query_len, self.heads * self.head_dim)\n",
        "        out = self.fc_out(out)\n",
        "        return out\n",
        "\n",
        "class TaikoNoteClassfication(nn.Module):\n",
        "    def __init__(self, num_classes, embed_size=256, heads=8):\n",
        "        super(TaikoNoteClassfication, self).__init__()\n",
        "        self.conv1 = nn.Conv2d(in_channels=C, out_channels=32, kernel_size=(3, 3), stride=(1, 1), padding=(1, 1))\n",
        "        self.conv2 = nn.Conv2d(in_channels=32, out_channels=64, kernel_size=(3, 3), stride=(1, 1), padding=(1, 1))\n",
        "        self.conv3 = nn.Conv2d(in_channels=64, out_channels=128, kernel_size=(3, 3), stride=(1, 1), padding=(1, 1))\n",
        "        self.pool = nn.MaxPool2d(kernel_size=(2, 2), stride=(2, 2), padding=(0, 0))\n",
        "\n",
        "        self.fc1 = nn.Linear(128 * 8 * (101//8), embed_size)\n",
        "        self.attention = SelfAttention(embed_size, heads)\n",
        "        self.fc2 = nn.Linear(embed_size, 256)\n",
        "        self.fc3 = nn.Linear(256, num_classes)\n",
        "\n",
        "    def forward(self, x):\n",
        "        batch_size, sequence_length, channels, height, width = x.size()\n",
        "        x = x.view(batch_size * sequence_length, channels, height, width)\n",
        "\n",
        "        x = self.pool(F.relu(self.conv1(x)))\n",
        "        x = self.pool(F.relu(self.conv2(x)))\n",
        "        x = self.pool(F.relu(self.conv3(x)))\n",
        "\n",
        "        x = x.view(batch_size, sequence_length, -1)  # Reshape to (batch_size, sequence_length, feature_dim)\n",
        "\n",
        "        x = F.relu(self.fc1(x))\n",
        "        x = self.attention(x, x, x, mask=None)  # Self-Attention mechanism\n",
        "\n",
        "        x = F.relu(self.fc2(x))  # Apply to all time steps\n",
        "        x = self.fc3(x)  # Final classification layer\n",
        "\n",
        "        return x"
      ]
    },
    {
      "cell_type": "code",
      "execution_count": null,
      "metadata": {
        "id": "YRRnAYjIjNft"
      },
      "outputs": [],
      "source": [
        "ReducedInfoSet(song_branched.ScrollSet[21])"
      ]
    },
    {
      "cell_type": "code",
      "execution_count": null,
      "metadata": {
        "id": "2sAkBUkqjNft"
      },
      "outputs": [],
      "source": [
        "ReducedInfoSet(song_branched.ScrollSet)==song_branched.ScrollSet"
      ]
    },
    {
      "cell_type": "code",
      "execution_count": null,
      "metadata": {
        "id": "UpaVlpCdjNft"
      },
      "outputs": [],
      "source": [
        "song_branched.ScrollSet[21]"
      ]
    },
    {
      "cell_type": "code",
      "execution_count": null,
      "metadata": {
        "id": "ELaiaTUNjNfu"
      },
      "outputs": [],
      "source": [
        "song_branched = TaikoFumenBranched(\"D:/taikojiro/english/bitch lasagna/bitch lasagna.tja\", Codec, 0, None)"
      ]
    },
    {
      "cell_type": "code",
      "execution_count": null,
      "metadata": {
        "id": "1wY3d55SjNfu"
      },
      "outputs": [],
      "source": [
        "song_branched.BranchStateSet"
      ]
    },
    {
      "cell_type": "code",
      "execution_count": null,
      "metadata": {
        "id": "1YhsXknSjNfu"
      },
      "outputs": [],
      "source": [
        "\"A\".isnumeric()"
      ]
    },
    {
      "cell_type": "code",
      "execution_count": null,
      "metadata": {
        "id": "eLeXayFojNfu"
      },
      "outputs": [],
      "source": [
        "\"10001010,\"[]"
      ]
    },
    {
      "cell_type": "code",
      "execution_count": null,
      "metadata": {
        "id": "xQvJ2DW2jNfu"
      },
      "outputs": [],
      "source": [
        "\"10000000000000000000000000000000000000000000000000000000000000000000000000000000000000,\"[1:]"
      ]
    },
    {
      "cell_type": "code",
      "execution_count": null,
      "metadata": {
        "id": "ZTRymNRYjNfu"
      },
      "outputs": [],
      "source": [
        "len(\"10000000000000000000000000000000000000000000000000000000000000000000000000000000000000,\")"
      ]
    },
    {
      "cell_type": "code",
      "execution_count": null,
      "metadata": {
        "id": "JoutZKBSjNfu"
      },
      "outputs": [],
      "source": [
        "ReducedBar(\"100010001000\")"
      ]
    },
    {
      "cell_type": "code",
      "execution_count": null,
      "metadata": {
        "id": "RwqLdWDrjNfx"
      },
      "outputs": [],
      "source": [
        "Row = \"1000000000100000000,\"\n",
        "(len(Row)-1)/(len(ReducedBar(Row))-1)"
      ]
    },
    {
      "cell_type": "code",
      "execution_count": null,
      "metadata": {
        "id": "kOveDCZhjNfx"
      },
      "outputs": [],
      "source": [
        "for _ in song_branched.EveryBar:  print(_)"
      ]
    },
    {
      "cell_type": "code",
      "execution_count": null,
      "metadata": {
        "id": "0iIEow9_jNfx"
      },
      "outputs": [],
      "source": [
        "song_branched.EveryBar[0]"
      ]
    },
    {
      "cell_type": "code",
      "execution_count": null,
      "metadata": {
        "id": "GbZV2Th_jNfx"
      },
      "outputs": [],
      "source": [
        "CustomLayer = f\"a{bpm}1\"\n",
        "CustomLayer"
      ]
    },
    {
      "cell_type": "code",
      "execution_count": null,
      "metadata": {
        "id": "oaAv8HXUjNfx"
      },
      "outputs": [],
      "source": [
        "note, bpm, scr, measure, barline, gogo, delay"
      ]
    },
    {
      "cell_type": "code",
      "execution_count": null,
      "metadata": {
        "id": "ceQdRjOIjNfx"
      },
      "outputs": [],
      "source": [
        "len(set_bpm[0])==len(set_scr[0])==len(set_measure[0])==len(set_barline[0])==len(set_gogo[0])==len(set_delay[0])==len(song_branched.EveryBar[0])"
      ]
    },
    {
      "cell_type": "code",
      "execution_count": null,
      "metadata": {
        "id": "jDAza5rQjNfx"
      },
      "outputs": [],
      "source": [
        "summary(model=TaikoModel)"
      ]
    },
    {
      "cell_type": "code",
      "execution_count": null,
      "metadata": {
        "id": "gv6Moxt3jNfx",
        "outputId": "b833f552-edf2-4cf5-d271-f53159d10528"
      },
      "outputs": [
        {
          "name": "stdout",
          "output_type": "stream",
          "text": [
            "torch.Size([1, 3, 4]) torch.Size([1, 3, 4]) torch.Size([1, 3, 4])\n"
          ]
        },
        {
          "data": {
            "text/plain": [
              "(tensor([[[ 1.6674, -1.6928,  1.2547, -0.1899],\n",
              "          [ 1.7923, -1.7901,  1.3771, -0.2072],\n",
              "          [ 1.7925, -1.7902,  1.3773, -0.2072]]], grad_fn=<TransposeBackward0>),\n",
              " tensor([[[1.6850e-02, 8.6976e-01, 1.1339e-01],\n",
              "          [2.2599e-04, 9.8244e-01, 1.7335e-02],\n",
              "          [2.8874e-04, 9.8269e-01, 1.7018e-02]]], grad_fn=<MeanBackward1>))"
            ]
          },
          "execution_count": 58,
          "metadata": {},
          "output_type": "execute_result"
        }
      ],
      "source": [
        "embed_dim = 4\n",
        "num_heads = 1\n",
        "\n",
        "x = [\n",
        "  [1, 0, 1, 0], # Seq 1\n",
        "  [0, 2, 0, 2], # Seq 2\n",
        "  [1, 1, 1, 1]  # Seq 3\n",
        " ]\n",
        "x = torch.tensor(x, dtype=torch.float32)\n",
        "\n",
        "w_key = [\n",
        "  [0, 0, 1, 1],\n",
        "  [1, 1, 0, 1],\n",
        "  [0, 1, 0, 1],\n",
        "  [1, 1, 0, 1]\n",
        "]\n",
        "w_query = [\n",
        "  [1, 0, 1, 1],\n",
        "  [1, 0, 0, 1],\n",
        "  [0, 0, 1, 1],\n",
        "  [0, 1, 1, 1]\n",
        "]\n",
        "w_value = [\n",
        "  [0, 2, 0, 1],\n",
        "  [0, 3, 0, 1],\n",
        "  [1, 0, 3, 1],\n",
        "  [1, 1, 0, 1]\n",
        "]\n",
        "w_key = torch.tensor(w_key, dtype=torch.float32)\n",
        "w_query = torch.tensor(w_query, dtype=torch.float32)\n",
        "w_value = torch.tensor(w_value, dtype=torch.float32)\n",
        "\n",
        "keys = (x @ w_key).unsqueeze(0)     # to batch mode\n",
        "querys = (x @ w_query).unsqueeze(0)\n",
        "values = (x @ w_value).unsqueeze(0)\n",
        "\n",
        "print(keys.shape, querys.shape, values.shape)\n",
        "\n",
        "multihead_attn = nn.MultiheadAttention(embed_dim, num_heads, batch_first=True)\n",
        "attn_output, attn_output_weights = multihead_attn(querys, keys, values)\n",
        "attn_output, attn_output_weights"
      ]
    }
  ],
  "metadata": {
    "kernelspec": {
      "display_name": "Python 3",
      "name": "python3"
    },
    "language_info": {
      "codemirror_mode": {
        "name": "ipython",
        "version": 3
      },
      "file_extension": ".py",
      "mimetype": "text/x-python",
      "name": "python",
      "nbconvert_exporter": "python",
      "pygments_lexer": "ipython3",
      "version": "3.11.2"
    },
    "colab": {
      "provenance": [],
      "gpuType": "T4",
      "collapsed_sections": [
        "HP66HK4rrPEg",
        "JM6BzS4Owq3d"
      ],
      "include_colab_link": true
    },
    "widgets": {
      "application/vnd.jupyter.widget-state+json": {
        "fd207e32925c4ad8b339d4fe330ced86": {
          "model_module": "@jupyter-widgets/controls",
          "model_name": "HBoxModel",
          "model_module_version": "1.5.0",
          "state": {
            "_dom_classes": [],
            "_model_module": "@jupyter-widgets/controls",
            "_model_module_version": "1.5.0",
            "_model_name": "HBoxModel",
            "_view_count": null,
            "_view_module": "@jupyter-widgets/controls",
            "_view_module_version": "1.5.0",
            "_view_name": "HBoxView",
            "box_style": "",
            "children": [
              "IPY_MODEL_b75621b2f69545088cd7afac647620a7",
              "IPY_MODEL_7b1ae051eb284932a510d469bf02c45a",
              "IPY_MODEL_61d394b25ea045bb874651be43e8d921"
            ],
            "layout": "IPY_MODEL_835f158740cf4f2dae71a1623019d919"
          }
        },
        "b75621b2f69545088cd7afac647620a7": {
          "model_module": "@jupyter-widgets/controls",
          "model_name": "HTMLModel",
          "model_module_version": "1.5.0",
          "state": {
            "_dom_classes": [],
            "_model_module": "@jupyter-widgets/controls",
            "_model_module_version": "1.5.0",
            "_model_name": "HTMLModel",
            "_view_count": null,
            "_view_module": "@jupyter-widgets/controls",
            "_view_module_version": "1.5.0",
            "_view_name": "HTMLView",
            "description": "",
            "description_tooltip": null,
            "layout": "IPY_MODEL_41c60a9f86924b5fb83acd9de872138b",
            "placeholder": "​",
            "style": "IPY_MODEL_a3d2d750886b48358a2ac182977a5c04",
            "value": "100%"
          }
        },
        "7b1ae051eb284932a510d469bf02c45a": {
          "model_module": "@jupyter-widgets/controls",
          "model_name": "FloatProgressModel",
          "model_module_version": "1.5.0",
          "state": {
            "_dom_classes": [],
            "_model_module": "@jupyter-widgets/controls",
            "_model_module_version": "1.5.0",
            "_model_name": "FloatProgressModel",
            "_view_count": null,
            "_view_module": "@jupyter-widgets/controls",
            "_view_module_version": "1.5.0",
            "_view_name": "ProgressView",
            "bar_style": "success",
            "description": "",
            "description_tooltip": null,
            "layout": "IPY_MODEL_88e102b4ea8d494cb22c09c065b2c278",
            "max": 2847,
            "min": 0,
            "orientation": "horizontal",
            "style": "IPY_MODEL_74348f0c4d8b414eabd7465beb78afd0",
            "value": 2847
          }
        },
        "61d394b25ea045bb874651be43e8d921": {
          "model_module": "@jupyter-widgets/controls",
          "model_name": "HTMLModel",
          "model_module_version": "1.5.0",
          "state": {
            "_dom_classes": [],
            "_model_module": "@jupyter-widgets/controls",
            "_model_module_version": "1.5.0",
            "_model_name": "HTMLModel",
            "_view_count": null,
            "_view_module": "@jupyter-widgets/controls",
            "_view_module_version": "1.5.0",
            "_view_name": "HTMLView",
            "description": "",
            "description_tooltip": null,
            "layout": "IPY_MODEL_f5b8f669fad2411a858e1fc9ed3ad3a2",
            "placeholder": "​",
            "style": "IPY_MODEL_f56e6c6daad44b88b36963d4d2039dbb",
            "value": " 2847/2847 [07:29&lt;00:00,  7.28it/s]"
          }
        },
        "835f158740cf4f2dae71a1623019d919": {
          "model_module": "@jupyter-widgets/base",
          "model_name": "LayoutModel",
          "model_module_version": "1.2.0",
          "state": {
            "_model_module": "@jupyter-widgets/base",
            "_model_module_version": "1.2.0",
            "_model_name": "LayoutModel",
            "_view_count": null,
            "_view_module": "@jupyter-widgets/base",
            "_view_module_version": "1.2.0",
            "_view_name": "LayoutView",
            "align_content": null,
            "align_items": null,
            "align_self": null,
            "border": null,
            "bottom": null,
            "display": null,
            "flex": null,
            "flex_flow": null,
            "grid_area": null,
            "grid_auto_columns": null,
            "grid_auto_flow": null,
            "grid_auto_rows": null,
            "grid_column": null,
            "grid_gap": null,
            "grid_row": null,
            "grid_template_areas": null,
            "grid_template_columns": null,
            "grid_template_rows": null,
            "height": null,
            "justify_content": null,
            "justify_items": null,
            "left": null,
            "margin": null,
            "max_height": null,
            "max_width": null,
            "min_height": null,
            "min_width": null,
            "object_fit": null,
            "object_position": null,
            "order": null,
            "overflow": null,
            "overflow_x": null,
            "overflow_y": null,
            "padding": null,
            "right": null,
            "top": null,
            "visibility": null,
            "width": null
          }
        },
        "41c60a9f86924b5fb83acd9de872138b": {
          "model_module": "@jupyter-widgets/base",
          "model_name": "LayoutModel",
          "model_module_version": "1.2.0",
          "state": {
            "_model_module": "@jupyter-widgets/base",
            "_model_module_version": "1.2.0",
            "_model_name": "LayoutModel",
            "_view_count": null,
            "_view_module": "@jupyter-widgets/base",
            "_view_module_version": "1.2.0",
            "_view_name": "LayoutView",
            "align_content": null,
            "align_items": null,
            "align_self": null,
            "border": null,
            "bottom": null,
            "display": null,
            "flex": null,
            "flex_flow": null,
            "grid_area": null,
            "grid_auto_columns": null,
            "grid_auto_flow": null,
            "grid_auto_rows": null,
            "grid_column": null,
            "grid_gap": null,
            "grid_row": null,
            "grid_template_areas": null,
            "grid_template_columns": null,
            "grid_template_rows": null,
            "height": null,
            "justify_content": null,
            "justify_items": null,
            "left": null,
            "margin": null,
            "max_height": null,
            "max_width": null,
            "min_height": null,
            "min_width": null,
            "object_fit": null,
            "object_position": null,
            "order": null,
            "overflow": null,
            "overflow_x": null,
            "overflow_y": null,
            "padding": null,
            "right": null,
            "top": null,
            "visibility": null,
            "width": null
          }
        },
        "a3d2d750886b48358a2ac182977a5c04": {
          "model_module": "@jupyter-widgets/controls",
          "model_name": "DescriptionStyleModel",
          "model_module_version": "1.5.0",
          "state": {
            "_model_module": "@jupyter-widgets/controls",
            "_model_module_version": "1.5.0",
            "_model_name": "DescriptionStyleModel",
            "_view_count": null,
            "_view_module": "@jupyter-widgets/base",
            "_view_module_version": "1.2.0",
            "_view_name": "StyleView",
            "description_width": ""
          }
        },
        "88e102b4ea8d494cb22c09c065b2c278": {
          "model_module": "@jupyter-widgets/base",
          "model_name": "LayoutModel",
          "model_module_version": "1.2.0",
          "state": {
            "_model_module": "@jupyter-widgets/base",
            "_model_module_version": "1.2.0",
            "_model_name": "LayoutModel",
            "_view_count": null,
            "_view_module": "@jupyter-widgets/base",
            "_view_module_version": "1.2.0",
            "_view_name": "LayoutView",
            "align_content": null,
            "align_items": null,
            "align_self": null,
            "border": null,
            "bottom": null,
            "display": null,
            "flex": null,
            "flex_flow": null,
            "grid_area": null,
            "grid_auto_columns": null,
            "grid_auto_flow": null,
            "grid_auto_rows": null,
            "grid_column": null,
            "grid_gap": null,
            "grid_row": null,
            "grid_template_areas": null,
            "grid_template_columns": null,
            "grid_template_rows": null,
            "height": null,
            "justify_content": null,
            "justify_items": null,
            "left": null,
            "margin": null,
            "max_height": null,
            "max_width": null,
            "min_height": null,
            "min_width": null,
            "object_fit": null,
            "object_position": null,
            "order": null,
            "overflow": null,
            "overflow_x": null,
            "overflow_y": null,
            "padding": null,
            "right": null,
            "top": null,
            "visibility": null,
            "width": null
          }
        },
        "74348f0c4d8b414eabd7465beb78afd0": {
          "model_module": "@jupyter-widgets/controls",
          "model_name": "ProgressStyleModel",
          "model_module_version": "1.5.0",
          "state": {
            "_model_module": "@jupyter-widgets/controls",
            "_model_module_version": "1.5.0",
            "_model_name": "ProgressStyleModel",
            "_view_count": null,
            "_view_module": "@jupyter-widgets/base",
            "_view_module_version": "1.2.0",
            "_view_name": "StyleView",
            "bar_color": null,
            "description_width": ""
          }
        },
        "f5b8f669fad2411a858e1fc9ed3ad3a2": {
          "model_module": "@jupyter-widgets/base",
          "model_name": "LayoutModel",
          "model_module_version": "1.2.0",
          "state": {
            "_model_module": "@jupyter-widgets/base",
            "_model_module_version": "1.2.0",
            "_model_name": "LayoutModel",
            "_view_count": null,
            "_view_module": "@jupyter-widgets/base",
            "_view_module_version": "1.2.0",
            "_view_name": "LayoutView",
            "align_content": null,
            "align_items": null,
            "align_self": null,
            "border": null,
            "bottom": null,
            "display": null,
            "flex": null,
            "flex_flow": null,
            "grid_area": null,
            "grid_auto_columns": null,
            "grid_auto_flow": null,
            "grid_auto_rows": null,
            "grid_column": null,
            "grid_gap": null,
            "grid_row": null,
            "grid_template_areas": null,
            "grid_template_columns": null,
            "grid_template_rows": null,
            "height": null,
            "justify_content": null,
            "justify_items": null,
            "left": null,
            "margin": null,
            "max_height": null,
            "max_width": null,
            "min_height": null,
            "min_width": null,
            "object_fit": null,
            "object_position": null,
            "order": null,
            "overflow": null,
            "overflow_x": null,
            "overflow_y": null,
            "padding": null,
            "right": null,
            "top": null,
            "visibility": null,
            "width": null
          }
        },
        "f56e6c6daad44b88b36963d4d2039dbb": {
          "model_module": "@jupyter-widgets/controls",
          "model_name": "DescriptionStyleModel",
          "model_module_version": "1.5.0",
          "state": {
            "_model_module": "@jupyter-widgets/controls",
            "_model_module_version": "1.5.0",
            "_model_name": "DescriptionStyleModel",
            "_view_count": null,
            "_view_module": "@jupyter-widgets/base",
            "_view_module_version": "1.2.0",
            "_view_name": "StyleView",
            "description_width": ""
          }
        },
        "8622749f434241789bd524d1860b6d7f": {
          "model_module": "@jupyter-widgets/controls",
          "model_name": "HBoxModel",
          "model_module_version": "1.5.0",
          "state": {
            "_dom_classes": [],
            "_model_module": "@jupyter-widgets/controls",
            "_model_module_version": "1.5.0",
            "_model_name": "HBoxModel",
            "_view_count": null,
            "_view_module": "@jupyter-widgets/controls",
            "_view_module_version": "1.5.0",
            "_view_name": "HBoxView",
            "box_style": "",
            "children": [
              "IPY_MODEL_5aa6115ff2ce4b86beed671794b83090",
              "IPY_MODEL_925681ba631d47a297dff2d0fd0bade5",
              "IPY_MODEL_971483ec8139439c90eab0ed03432dea"
            ],
            "layout": "IPY_MODEL_f81c638880244a6caf36953cf7c1b854"
          }
        },
        "5aa6115ff2ce4b86beed671794b83090": {
          "model_module": "@jupyter-widgets/controls",
          "model_name": "HTMLModel",
          "model_module_version": "1.5.0",
          "state": {
            "_dom_classes": [],
            "_model_module": "@jupyter-widgets/controls",
            "_model_module_version": "1.5.0",
            "_model_name": "HTMLModel",
            "_view_count": null,
            "_view_module": "@jupyter-widgets/controls",
            "_view_module_version": "1.5.0",
            "_view_name": "HTMLView",
            "description": "",
            "description_tooltip": null,
            "layout": "IPY_MODEL_4d7783ae020443c8bc8c322bdeea75b7",
            "placeholder": "​",
            "style": "IPY_MODEL_bd061ef9e5cf4b3cb35075909332d342",
            "value": "100%"
          }
        },
        "925681ba631d47a297dff2d0fd0bade5": {
          "model_module": "@jupyter-widgets/controls",
          "model_name": "FloatProgressModel",
          "model_module_version": "1.5.0",
          "state": {
            "_dom_classes": [],
            "_model_module": "@jupyter-widgets/controls",
            "_model_module_version": "1.5.0",
            "_model_name": "FloatProgressModel",
            "_view_count": null,
            "_view_module": "@jupyter-widgets/controls",
            "_view_module_version": "1.5.0",
            "_view_name": "ProgressView",
            "bar_style": "success",
            "description": "",
            "description_tooltip": null,
            "layout": "IPY_MODEL_9b95eb3e8b66479b9d8fd05fada9cb3f",
            "max": 7712,
            "min": 0,
            "orientation": "horizontal",
            "style": "IPY_MODEL_d184776ea29d405291ddf80b96ff251d",
            "value": 7712
          }
        },
        "971483ec8139439c90eab0ed03432dea": {
          "model_module": "@jupyter-widgets/controls",
          "model_name": "HTMLModel",
          "model_module_version": "1.5.0",
          "state": {
            "_dom_classes": [],
            "_model_module": "@jupyter-widgets/controls",
            "_model_module_version": "1.5.0",
            "_model_name": "HTMLModel",
            "_view_count": null,
            "_view_module": "@jupyter-widgets/controls",
            "_view_module_version": "1.5.0",
            "_view_name": "HTMLView",
            "description": "",
            "description_tooltip": null,
            "layout": "IPY_MODEL_08285df7e7014fbbb861d7d6c5cf8740",
            "placeholder": "​",
            "style": "IPY_MODEL_0f33584877bc4420a71ab42637321978",
            "value": " 7712/7712 [02:54&lt;00:00, 49.92it/s]"
          }
        },
        "f81c638880244a6caf36953cf7c1b854": {
          "model_module": "@jupyter-widgets/base",
          "model_name": "LayoutModel",
          "model_module_version": "1.2.0",
          "state": {
            "_model_module": "@jupyter-widgets/base",
            "_model_module_version": "1.2.0",
            "_model_name": "LayoutModel",
            "_view_count": null,
            "_view_module": "@jupyter-widgets/base",
            "_view_module_version": "1.2.0",
            "_view_name": "LayoutView",
            "align_content": null,
            "align_items": null,
            "align_self": null,
            "border": null,
            "bottom": null,
            "display": null,
            "flex": null,
            "flex_flow": null,
            "grid_area": null,
            "grid_auto_columns": null,
            "grid_auto_flow": null,
            "grid_auto_rows": null,
            "grid_column": null,
            "grid_gap": null,
            "grid_row": null,
            "grid_template_areas": null,
            "grid_template_columns": null,
            "grid_template_rows": null,
            "height": null,
            "justify_content": null,
            "justify_items": null,
            "left": null,
            "margin": null,
            "max_height": null,
            "max_width": null,
            "min_height": null,
            "min_width": null,
            "object_fit": null,
            "object_position": null,
            "order": null,
            "overflow": null,
            "overflow_x": null,
            "overflow_y": null,
            "padding": null,
            "right": null,
            "top": null,
            "visibility": null,
            "width": null
          }
        },
        "4d7783ae020443c8bc8c322bdeea75b7": {
          "model_module": "@jupyter-widgets/base",
          "model_name": "LayoutModel",
          "model_module_version": "1.2.0",
          "state": {
            "_model_module": "@jupyter-widgets/base",
            "_model_module_version": "1.2.0",
            "_model_name": "LayoutModel",
            "_view_count": null,
            "_view_module": "@jupyter-widgets/base",
            "_view_module_version": "1.2.0",
            "_view_name": "LayoutView",
            "align_content": null,
            "align_items": null,
            "align_self": null,
            "border": null,
            "bottom": null,
            "display": null,
            "flex": null,
            "flex_flow": null,
            "grid_area": null,
            "grid_auto_columns": null,
            "grid_auto_flow": null,
            "grid_auto_rows": null,
            "grid_column": null,
            "grid_gap": null,
            "grid_row": null,
            "grid_template_areas": null,
            "grid_template_columns": null,
            "grid_template_rows": null,
            "height": null,
            "justify_content": null,
            "justify_items": null,
            "left": null,
            "margin": null,
            "max_height": null,
            "max_width": null,
            "min_height": null,
            "min_width": null,
            "object_fit": null,
            "object_position": null,
            "order": null,
            "overflow": null,
            "overflow_x": null,
            "overflow_y": null,
            "padding": null,
            "right": null,
            "top": null,
            "visibility": null,
            "width": null
          }
        },
        "bd061ef9e5cf4b3cb35075909332d342": {
          "model_module": "@jupyter-widgets/controls",
          "model_name": "DescriptionStyleModel",
          "model_module_version": "1.5.0",
          "state": {
            "_model_module": "@jupyter-widgets/controls",
            "_model_module_version": "1.5.0",
            "_model_name": "DescriptionStyleModel",
            "_view_count": null,
            "_view_module": "@jupyter-widgets/base",
            "_view_module_version": "1.2.0",
            "_view_name": "StyleView",
            "description_width": ""
          }
        },
        "9b95eb3e8b66479b9d8fd05fada9cb3f": {
          "model_module": "@jupyter-widgets/base",
          "model_name": "LayoutModel",
          "model_module_version": "1.2.0",
          "state": {
            "_model_module": "@jupyter-widgets/base",
            "_model_module_version": "1.2.0",
            "_model_name": "LayoutModel",
            "_view_count": null,
            "_view_module": "@jupyter-widgets/base",
            "_view_module_version": "1.2.0",
            "_view_name": "LayoutView",
            "align_content": null,
            "align_items": null,
            "align_self": null,
            "border": null,
            "bottom": null,
            "display": null,
            "flex": null,
            "flex_flow": null,
            "grid_area": null,
            "grid_auto_columns": null,
            "grid_auto_flow": null,
            "grid_auto_rows": null,
            "grid_column": null,
            "grid_gap": null,
            "grid_row": null,
            "grid_template_areas": null,
            "grid_template_columns": null,
            "grid_template_rows": null,
            "height": null,
            "justify_content": null,
            "justify_items": null,
            "left": null,
            "margin": null,
            "max_height": null,
            "max_width": null,
            "min_height": null,
            "min_width": null,
            "object_fit": null,
            "object_position": null,
            "order": null,
            "overflow": null,
            "overflow_x": null,
            "overflow_y": null,
            "padding": null,
            "right": null,
            "top": null,
            "visibility": null,
            "width": null
          }
        },
        "d184776ea29d405291ddf80b96ff251d": {
          "model_module": "@jupyter-widgets/controls",
          "model_name": "ProgressStyleModel",
          "model_module_version": "1.5.0",
          "state": {
            "_model_module": "@jupyter-widgets/controls",
            "_model_module_version": "1.5.0",
            "_model_name": "ProgressStyleModel",
            "_view_count": null,
            "_view_module": "@jupyter-widgets/base",
            "_view_module_version": "1.2.0",
            "_view_name": "StyleView",
            "bar_color": null,
            "description_width": ""
          }
        },
        "08285df7e7014fbbb861d7d6c5cf8740": {
          "model_module": "@jupyter-widgets/base",
          "model_name": "LayoutModel",
          "model_module_version": "1.2.0",
          "state": {
            "_model_module": "@jupyter-widgets/base",
            "_model_module_version": "1.2.0",
            "_model_name": "LayoutModel",
            "_view_count": null,
            "_view_module": "@jupyter-widgets/base",
            "_view_module_version": "1.2.0",
            "_view_name": "LayoutView",
            "align_content": null,
            "align_items": null,
            "align_self": null,
            "border": null,
            "bottom": null,
            "display": null,
            "flex": null,
            "flex_flow": null,
            "grid_area": null,
            "grid_auto_columns": null,
            "grid_auto_flow": null,
            "grid_auto_rows": null,
            "grid_column": null,
            "grid_gap": null,
            "grid_row": null,
            "grid_template_areas": null,
            "grid_template_columns": null,
            "grid_template_rows": null,
            "height": null,
            "justify_content": null,
            "justify_items": null,
            "left": null,
            "margin": null,
            "max_height": null,
            "max_width": null,
            "min_height": null,
            "min_width": null,
            "object_fit": null,
            "object_position": null,
            "order": null,
            "overflow": null,
            "overflow_x": null,
            "overflow_y": null,
            "padding": null,
            "right": null,
            "top": null,
            "visibility": null,
            "width": null
          }
        },
        "0f33584877bc4420a71ab42637321978": {
          "model_module": "@jupyter-widgets/controls",
          "model_name": "DescriptionStyleModel",
          "model_module_version": "1.5.0",
          "state": {
            "_model_module": "@jupyter-widgets/controls",
            "_model_module_version": "1.5.0",
            "_model_name": "DescriptionStyleModel",
            "_view_count": null,
            "_view_module": "@jupyter-widgets/base",
            "_view_module_version": "1.2.0",
            "_view_name": "StyleView",
            "description_width": ""
          }
        }
      }
    },
    "accelerator": "GPU"
  },
  "nbformat": 4,
  "nbformat_minor": 0
}